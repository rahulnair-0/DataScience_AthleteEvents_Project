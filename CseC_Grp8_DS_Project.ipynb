{
 "cells": [
  {
   "cell_type": "markdown",
   "metadata": {
    "_uuid": "b9a4e59c2718189766f3fedc7154366f4301b60d"
   },
   "source": [
    "## Exploring the Olympics dataset"
   ]
  },
  {
   "cell_type": "markdown",
   "metadata": {
    "_uuid": "ccc5c8919ca4d16ef833e94667cdf7f2d19269f1"
   },
   "source": [
    "120 years of olympic data is considered\n",
    "https://www.kaggle.com/heesoo37/120-years-of-olympic-history-athletes-and-results)(https://www.kaggle.com/resulcaliskan/countries-gdps) \n",
    "[population data](https://www.kaggle.com/centurion1986/countries-population)."
   ]
  },
  {
   "cell_type": "code",
   "execution_count": 1,
   "metadata": {
    "_cell_guid": "b1076dfc-b9ad-4769-8c92-a6c4dae69d19",
    "_kg_hide-input": true,
    "_uuid": "8f2839f25d086af736a60e9eeb907d3b93b6e0e5"
   },
   "outputs": [
    {
     "name": "stdout",
     "output_type": "stream",
     "text": [
      "%pylab is deprecated, use %matplotlib inline and import the required libraries.\n",
      "Populating the interactive namespace from numpy and matplotlib\n"
     ]
    }
   ],
   "source": [
    "import pandas as pd\n",
    "import numpy as np\n",
    "%pylab inline"
   ]
  },
  {
   "cell_type": "markdown",
   "metadata": {
    "_uuid": "bd8d97d633bb964a899b8a3ec0e47e225a424d59"
   },
   "source": [
    "The first five rows of the olympics data are shown below. We have 271,116 rows and 15 columns. Variables include Name, Sex, Age, Height, Weight of the athlete, his team name, sport, event and the year, season, city of the olympics he/she took part in. In addition, the data captures the medal won (if any) by the athlete."
   ]
  },
  {
   "cell_type": "code",
   "execution_count": 2,
   "metadata": {
    "_cell_guid": "79c7e3d0-c299-4dcb-8224-4455121ee9b0",
    "_kg_hide-input": true,
    "_uuid": "d629ff2d2480ee46fbb7e2d37f6b5fab8052498a"
   },
   "outputs": [
    {
     "data": {
      "text/html": [
       "<div>\n",
       "<style scoped>\n",
       "    .dataframe tbody tr th:only-of-type {\n",
       "        vertical-align: middle;\n",
       "    }\n",
       "\n",
       "    .dataframe tbody tr th {\n",
       "        vertical-align: top;\n",
       "    }\n",
       "\n",
       "    .dataframe thead th {\n",
       "        text-align: right;\n",
       "    }\n",
       "</style>\n",
       "<table border=\"1\" class=\"dataframe\">\n",
       "  <thead>\n",
       "    <tr style=\"text-align: right;\">\n",
       "      <th></th>\n",
       "      <th>ID</th>\n",
       "      <th>Name</th>\n",
       "      <th>Sex</th>\n",
       "      <th>Age</th>\n",
       "      <th>Height</th>\n",
       "      <th>Weight</th>\n",
       "      <th>Team</th>\n",
       "      <th>NOC</th>\n",
       "      <th>Games</th>\n",
       "      <th>Year</th>\n",
       "      <th>Season</th>\n",
       "      <th>City</th>\n",
       "      <th>Sport</th>\n",
       "      <th>Event</th>\n",
       "      <th>Medal</th>\n",
       "    </tr>\n",
       "  </thead>\n",
       "  <tbody>\n",
       "    <tr>\n",
       "      <th>0</th>\n",
       "      <td>1</td>\n",
       "      <td>A Dijiang</td>\n",
       "      <td>M</td>\n",
       "      <td>24.0</td>\n",
       "      <td>180.0</td>\n",
       "      <td>80.0</td>\n",
       "      <td>China</td>\n",
       "      <td>CHN</td>\n",
       "      <td>1992 Summer</td>\n",
       "      <td>1992</td>\n",
       "      <td>Summer</td>\n",
       "      <td>Barcelona</td>\n",
       "      <td>Basketball</td>\n",
       "      <td>Basketball Men's Basketball</td>\n",
       "      <td>NaN</td>\n",
       "    </tr>\n",
       "    <tr>\n",
       "      <th>1</th>\n",
       "      <td>2</td>\n",
       "      <td>A Lamusi</td>\n",
       "      <td>M</td>\n",
       "      <td>23.0</td>\n",
       "      <td>170.0</td>\n",
       "      <td>60.0</td>\n",
       "      <td>China</td>\n",
       "      <td>CHN</td>\n",
       "      <td>2012 Summer</td>\n",
       "      <td>2012</td>\n",
       "      <td>Summer</td>\n",
       "      <td>London</td>\n",
       "      <td>Judo</td>\n",
       "      <td>Judo Men's Extra-Lightweight</td>\n",
       "      <td>NaN</td>\n",
       "    </tr>\n",
       "    <tr>\n",
       "      <th>2</th>\n",
       "      <td>3</td>\n",
       "      <td>Gunnar Nielsen Aaby</td>\n",
       "      <td>M</td>\n",
       "      <td>24.0</td>\n",
       "      <td>NaN</td>\n",
       "      <td>NaN</td>\n",
       "      <td>Denmark</td>\n",
       "      <td>DEN</td>\n",
       "      <td>1920 Summer</td>\n",
       "      <td>1920</td>\n",
       "      <td>Summer</td>\n",
       "      <td>Antwerpen</td>\n",
       "      <td>Football</td>\n",
       "      <td>Football Men's Football</td>\n",
       "      <td>NaN</td>\n",
       "    </tr>\n",
       "    <tr>\n",
       "      <th>3</th>\n",
       "      <td>4</td>\n",
       "      <td>Edgar Lindenau Aabye</td>\n",
       "      <td>M</td>\n",
       "      <td>34.0</td>\n",
       "      <td>NaN</td>\n",
       "      <td>NaN</td>\n",
       "      <td>Denmark/Sweden</td>\n",
       "      <td>DEN</td>\n",
       "      <td>1900 Summer</td>\n",
       "      <td>1900</td>\n",
       "      <td>Summer</td>\n",
       "      <td>Paris</td>\n",
       "      <td>Tug-Of-War</td>\n",
       "      <td>Tug-Of-War Men's Tug-Of-War</td>\n",
       "      <td>Gold</td>\n",
       "    </tr>\n",
       "    <tr>\n",
       "      <th>4</th>\n",
       "      <td>5</td>\n",
       "      <td>Christine Jacoba Aaftink</td>\n",
       "      <td>F</td>\n",
       "      <td>21.0</td>\n",
       "      <td>185.0</td>\n",
       "      <td>82.0</td>\n",
       "      <td>Netherlands</td>\n",
       "      <td>NED</td>\n",
       "      <td>1988 Winter</td>\n",
       "      <td>1988</td>\n",
       "      <td>Winter</td>\n",
       "      <td>Calgary</td>\n",
       "      <td>Speed Skating</td>\n",
       "      <td>Speed Skating Women's 500 metres</td>\n",
       "      <td>NaN</td>\n",
       "    </tr>\n",
       "  </tbody>\n",
       "</table>\n",
       "</div>"
      ],
      "text/plain": [
       "   ID                      Name Sex   Age  Height  Weight            Team  \\\n",
       "0   1                 A Dijiang   M  24.0   180.0    80.0           China   \n",
       "1   2                  A Lamusi   M  23.0   170.0    60.0           China   \n",
       "2   3       Gunnar Nielsen Aaby   M  24.0     NaN     NaN         Denmark   \n",
       "3   4      Edgar Lindenau Aabye   M  34.0     NaN     NaN  Denmark/Sweden   \n",
       "4   5  Christine Jacoba Aaftink   F  21.0   185.0    82.0     Netherlands   \n",
       "\n",
       "   NOC        Games  Year  Season       City          Sport  \\\n",
       "0  CHN  1992 Summer  1992  Summer  Barcelona     Basketball   \n",
       "1  CHN  2012 Summer  2012  Summer     London           Judo   \n",
       "2  DEN  1920 Summer  1920  Summer  Antwerpen       Football   \n",
       "3  DEN  1900 Summer  1900  Summer      Paris     Tug-Of-War   \n",
       "4  NED  1988 Winter  1988  Winter    Calgary  Speed Skating   \n",
       "\n",
       "                              Event Medal  \n",
       "0       Basketball Men's Basketball   NaN  \n",
       "1      Judo Men's Extra-Lightweight   NaN  \n",
       "2           Football Men's Football   NaN  \n",
       "3       Tug-Of-War Men's Tug-Of-War  Gold  \n",
       "4  Speed Skating Women's 500 metres   NaN  "
      ]
     },
     "execution_count": 2,
     "metadata": {},
     "output_type": "execute_result"
    }
   ],
   "source": [
    "# Read in the data set\n",
    "olympics = pd.read_csv('athlete_events.csv')\n",
    "olympics.head()"
   ]
  },
  {
   "cell_type": "markdown",
   "metadata": {
    "_uuid": "e569784fca1dd3aa75f744a6adabcb6926e1dfbf"
   },
   "source": [
    "### Data exploration and Basic Hygiene"
   ]
  },
  {
   "cell_type": "markdown",
   "metadata": {
    "_uuid": "b62ae899e20bb40df0021b0baf03d3dc2c82fe20"
   },
   "source": [
    "#### 1) Missing Values\n",
    "Printing column wise missing values we get-"
   ]
  },
  {
   "cell_type": "code",
   "execution_count": 3,
   "metadata": {
    "_kg_hide-input": true,
    "_uuid": "f610cb9fa01f6e118721a8b18a8d2f0774868001"
   },
   "outputs": [
    {
     "name": "stdout",
     "output_type": "stream",
     "text": [
      "ID             0\n",
      "Name           0\n",
      "Sex            0\n",
      "Age         9474\n",
      "Height     60171\n",
      "Weight     62875\n",
      "Team           0\n",
      "NOC            0\n",
      "Games          0\n",
      "Year           0\n",
      "Season         0\n",
      "City           0\n",
      "Sport          0\n",
      "Event          0\n",
      "Medal     231333\n",
      "dtype: int64\n"
     ]
    }
   ],
   "source": [
    "print(olympics.isnull().sum())"
   ]
  },
  {
   "cell_type": "markdown",
   "metadata": {
    "_uuid": "7e83b13806dac2ca1638870b6459479844a727ed"
   },
   "source": [
    "We find that height, weight and Age have a lot of missing values. Medals have a NaN in about 2,31,333 rows. These can be explained since not all participating athletes would win medals. Let's replace these missing values by 'Did not win' or 'DNW'"
   ]
  },
  {
   "cell_type": "code",
   "execution_count": 4,
   "metadata": {
    "_uuid": "f249dd012cd8eece3dac4fcbb002ee456a9c4efd"
   },
   "outputs": [],
   "source": [
    "olympics['Medal'].fillna('DNW', inplace = True)"
   ]
  },
  {
   "cell_type": "code",
   "execution_count": 5,
   "metadata": {
    "_kg_hide-input": true,
    "_uuid": "62e5e90d1badbf001c14d197fdeddd2f7d9483cc"
   },
   "outputs": [
    {
     "name": "stdout",
     "output_type": "stream",
     "text": [
      "ID            0\n",
      "Name          0\n",
      "Sex           0\n",
      "Age        9474\n",
      "Height    60171\n",
      "Weight    62875\n",
      "Team          0\n",
      "NOC           0\n",
      "Games         0\n",
      "Year          0\n",
      "Season        0\n",
      "City          0\n",
      "Sport         0\n",
      "Event         0\n",
      "Medal         0\n",
      "dtype: int64\n"
     ]
    }
   ],
   "source": [
    "# As expected the NaNs in the 'Medal' column disappear!\n",
    "print(olympics.isnull().sum())"
   ]
  },
  {
   "cell_type": "markdown",
   "metadata": {
    "_uuid": "f47e25e7dbfe466f5321804829fa4ddd08dc715f"
   },
   "source": [
    "#### 2) NOC - National Olympic Committee. \n",
    "These are responsible for organizing their people's participation in the Olympics.\n",
    "Are all NOCs linked to a unique team? We can find this out by taking a unique subset of just the NOC and team columns and taking a value count."
   ]
  },
  {
   "cell_type": "code",
   "execution_count": 6,
   "metadata": {
    "_uuid": "f3e4b39a350e60dc4aab91befa6c1e4a0f20d0bb"
   },
   "outputs": [
    {
     "name": "stdout",
     "output_type": "stream",
     "text": [
      "FRA    160\n",
      "USA     97\n",
      "GBR     96\n",
      "SWE     52\n",
      "NOR     46\n",
      "Name: NOC, dtype: int64\n"
     ]
    }
   ],
   "source": [
    "print(olympics.loc[:, ['NOC', 'Team']].drop_duplicates()['NOC'].value_counts().head())"
   ]
  },
  {
   "cell_type": "markdown",
   "metadata": {
    "_uuid": "d0b123122c0a0600bac21834a1cac452601fe4f0"
   },
   "source": [
    "NOC code 'FRA' is associated with 160 teams "
   ]
  },
  {
   "cell_type": "markdown",
   "metadata": {
    "_uuid": "6e7bc2e5599f67c34bb900074efeff1a81885570"
   },
   "source": [
    "The NOC data has the NOC code and the corresponding Country Name. The first five rows of the data are shown below -"
   ]
  },
  {
   "cell_type": "code",
   "execution_count": 7,
   "metadata": {
    "_kg_hide-input": true,
    "_uuid": "d876885276fad42fc697d1b9e9a59cdf62f7b63c"
   },
   "outputs": [
    {
     "data": {
      "text/html": [
       "<div>\n",
       "<style scoped>\n",
       "    .dataframe tbody tr th:only-of-type {\n",
       "        vertical-align: middle;\n",
       "    }\n",
       "\n",
       "    .dataframe tbody tr th {\n",
       "        vertical-align: top;\n",
       "    }\n",
       "\n",
       "    .dataframe thead th {\n",
       "        text-align: right;\n",
       "    }\n",
       "</style>\n",
       "<table border=\"1\" class=\"dataframe\">\n",
       "  <thead>\n",
       "    <tr style=\"text-align: right;\">\n",
       "      <th></th>\n",
       "      <th>NOC</th>\n",
       "      <th>Country</th>\n",
       "    </tr>\n",
       "  </thead>\n",
       "  <tbody>\n",
       "    <tr>\n",
       "      <th>0</th>\n",
       "      <td>AFG</td>\n",
       "      <td>Afghanistan</td>\n",
       "    </tr>\n",
       "    <tr>\n",
       "      <th>1</th>\n",
       "      <td>AHO</td>\n",
       "      <td>Curacao</td>\n",
       "    </tr>\n",
       "    <tr>\n",
       "      <th>2</th>\n",
       "      <td>ALB</td>\n",
       "      <td>Albania</td>\n",
       "    </tr>\n",
       "    <tr>\n",
       "      <th>3</th>\n",
       "      <td>ALG</td>\n",
       "      <td>Algeria</td>\n",
       "    </tr>\n",
       "    <tr>\n",
       "      <th>4</th>\n",
       "      <td>AND</td>\n",
       "      <td>Andorra</td>\n",
       "    </tr>\n",
       "  </tbody>\n",
       "</table>\n",
       "</div>"
      ],
      "text/plain": [
       "   NOC      Country\n",
       "0  AFG  Afghanistan\n",
       "1  AHO      Curacao\n",
       "2  ALB      Albania\n",
       "3  ALG      Algeria\n",
       "4  AND      Andorra"
      ]
     },
     "execution_count": 7,
     "metadata": {},
     "output_type": "execute_result"
    }
   ],
   "source": [
    "# Lets read in the noc_country mapping first\n",
    "noc_country = pd.read_csv('noc_regions.csv')\n",
    "noc_country.drop('notes', axis = 1 , inplace = True)\n",
    "noc_country.rename(columns = {'region':'Country'}, inplace = True)\n",
    "\n",
    "noc_country.head()"
   ]
  },
  {
   "cell_type": "markdown",
   "metadata": {
    "_uuid": "b991c6107b5b921919f43c94dbd0b27b9013548d"
   },
   "source": [
    "We now need to merge the original dataset with the NOC master using the **NOC code as the primary key**. This has to be a left join since we want all participating countries to remain in the data even if their NOC-Country is not found in the master. We can easily correct those manually."
   ]
  },
  {
   "cell_type": "code",
   "execution_count": 8,
   "metadata": {
    "_kg_hide-output": true,
    "_uuid": "9e621c7056d420f0356716f105a0bb0de1e7c797"
   },
   "outputs": [],
   "source": [
    "# merging\n",
    "olympics_merge = olympics.merge(noc_country,\n",
    "                                left_on = 'NOC',\n",
    "                                right_on = 'NOC',\n",
    "                                how = 'left')"
   ]
  },
  {
   "cell_type": "markdown",
   "metadata": {
    "_uuid": "a435cf0b273d713ecdbdcc5d633b88d72ab86ad8"
   },
   "source": [
    "Even after merging, we find that the below NOC codes in the Olympics data had no counterpart in the NOC master data."
   ]
  },
  {
   "cell_type": "code",
   "execution_count": 9,
   "metadata": {
    "_kg_hide-input": true,
    "_uuid": "c367f56add417bc3fd29d7b2319b76a84d4ff120"
   },
   "outputs": [
    {
     "data": {
      "text/html": [
       "<div>\n",
       "<style scoped>\n",
       "    .dataframe tbody tr th:only-of-type {\n",
       "        vertical-align: middle;\n",
       "    }\n",
       "\n",
       "    .dataframe tbody tr th {\n",
       "        vertical-align: top;\n",
       "    }\n",
       "\n",
       "    .dataframe thead th {\n",
       "        text-align: right;\n",
       "    }\n",
       "</style>\n",
       "<table border=\"1\" class=\"dataframe\">\n",
       "  <thead>\n",
       "    <tr style=\"text-align: right;\">\n",
       "      <th></th>\n",
       "      <th>NOC</th>\n",
       "      <th>Team</th>\n",
       "    </tr>\n",
       "  </thead>\n",
       "  <tbody>\n",
       "    <tr>\n",
       "      <th>578</th>\n",
       "      <td>SGP</td>\n",
       "      <td>Singapore</td>\n",
       "    </tr>\n",
       "    <tr>\n",
       "      <th>6267</th>\n",
       "      <td>ROT</td>\n",
       "      <td>Refugee Olympic Athletes</td>\n",
       "    </tr>\n",
       "    <tr>\n",
       "      <th>44376</th>\n",
       "      <td>SGP</td>\n",
       "      <td>June Climene</td>\n",
       "    </tr>\n",
       "    <tr>\n",
       "      <th>61080</th>\n",
       "      <td>UNK</td>\n",
       "      <td>Unknown</td>\n",
       "    </tr>\n",
       "    <tr>\n",
       "      <th>64674</th>\n",
       "      <td>TUV</td>\n",
       "      <td>Tuvalu</td>\n",
       "    </tr>\n",
       "    <tr>\n",
       "      <th>80986</th>\n",
       "      <td>SGP</td>\n",
       "      <td>Rika II</td>\n",
       "    </tr>\n",
       "    <tr>\n",
       "      <th>108582</th>\n",
       "      <td>SGP</td>\n",
       "      <td>Singapore-2</td>\n",
       "    </tr>\n",
       "    <tr>\n",
       "      <th>235895</th>\n",
       "      <td>SGP</td>\n",
       "      <td>Singapore-1</td>\n",
       "    </tr>\n",
       "  </tbody>\n",
       "</table>\n",
       "</div>"
      ],
      "text/plain": [
       "        NOC                      Team\n",
       "578     SGP                 Singapore\n",
       "6267    ROT  Refugee Olympic Athletes\n",
       "44376   SGP              June Climene\n",
       "61080   UNK                   Unknown\n",
       "64674   TUV                    Tuvalu\n",
       "80986   SGP                   Rika II\n",
       "108582  SGP               Singapore-2\n",
       "235895  SGP               Singapore-1"
      ]
     },
     "execution_count": 9,
     "metadata": {},
     "output_type": "execute_result"
    }
   ],
   "source": [
    "# Do we have NOCs that didnt have a matching country in the master?\n",
    "olympics_merge.loc[olympics_merge['Country'].isnull(),['NOC', 'Team']].drop_duplicates()"
   ]
  },
  {
   "cell_type": "markdown",
   "metadata": {
    "_uuid": "8521a7eddf96e99bb81a78dd4c39c4ae70f24145"
   },
   "source": [
    "Looking at their 'Team' names we can manually insert the correct values into the olympics data.\n",
    "\n",
    "Let's put these values in Country - <br>\n",
    "    1. SGP - Singapore\n",
    "    2. ROT - Refugee Olympic Athletes\n",
    "    3. UNK - Unknown\n",
    "    4. TUV - Tuvalu"
   ]
  },
  {
   "cell_type": "code",
   "execution_count": 10,
   "metadata": {
    "_kg_hide-input": false,
    "_uuid": "6621da117898f36f0ea3fc0be61ba9edf5f13b24"
   },
   "outputs": [],
   "source": [
    "# Replace missing Teams by the values above.\n",
    "#olympics_merge.loc[olympics_merge['Country'].isnull(), ['Country']] = olympics_merge['Team']\n",
    "\n",
    "olympics_merge['Country'] = np.where(olympics_merge['NOC']=='SGP', 'Singapore', olympics_merge['Country'])\n",
    "olympics_merge['Country'] = np.where(olympics_merge['NOC']=='ROT', 'Refugee Olympic Athletes', olympics_merge['Country'])\n",
    "olympics_merge['Country'] = np.where(olympics_merge['NOC']=='UNK', 'Unknown', olympics_merge['Country'])\n",
    "olympics_merge['Country'] = np.where(olympics_merge['NOC']=='TUV', 'Tuvalu', olympics_merge['Country'])\n",
    "\n",
    "\n",
    "# Put these values from Country into Team\n",
    "olympics_merge.drop('Team', axis = 1, inplace = True)\n",
    "olympics_merge.rename(columns = {'Country': 'Team'}, inplace = True)"
   ]
  },
  {
   "cell_type": "markdown",
   "metadata": {
    "_uuid": "74275d6d410c57fa0bcd5f9f524b4ec0563387a0"
   },
   "source": [
    "Checking again for mapping of NOC to team we find that each is mapped to a single value! Nice!"
   ]
  },
  {
   "cell_type": "markdown",
   "metadata": {
    "_uuid": "5b6a8671cefb9629b8b0a0db59f054fd1f40894b",
    "collapsed": true
   },
   "source": [
    "### Merge GDP data\n",
    "To effectively study factors that affect the medal tally of a country, we need to import the Country-Year wise GDP data. THe GDP data has Country name, code, year and the GDP value. Some unnecessary columns _Indicator Name_ and _Indicator Code_ were removed. GDP data is shown below- "
   ]
  },
  {
   "cell_type": "code",
   "execution_count": 11,
   "metadata": {
    "_kg_hide-input": true,
    "_uuid": "5fa1b6a75d5b45ea50793d0cf65c3b5ee503c2c8"
   },
   "outputs": [
    {
     "data": {
      "text/html": [
       "<div>\n",
       "<style scoped>\n",
       "    .dataframe tbody tr th:only-of-type {\n",
       "        vertical-align: middle;\n",
       "    }\n",
       "\n",
       "    .dataframe tbody tr th {\n",
       "        vertical-align: top;\n",
       "    }\n",
       "\n",
       "    .dataframe thead th {\n",
       "        text-align: right;\n",
       "    }\n",
       "</style>\n",
       "<table border=\"1\" class=\"dataframe\">\n",
       "  <thead>\n",
       "    <tr style=\"text-align: right;\">\n",
       "      <th></th>\n",
       "      <th>Country Name</th>\n",
       "      <th>Country Code</th>\n",
       "      <th>Year</th>\n",
       "      <th>GDP</th>\n",
       "    </tr>\n",
       "  </thead>\n",
       "  <tbody>\n",
       "    <tr>\n",
       "      <th>0</th>\n",
       "      <td>Afghanistan</td>\n",
       "      <td>AFG</td>\n",
       "      <td>1960</td>\n",
       "      <td>5.377778e+08</td>\n",
       "    </tr>\n",
       "    <tr>\n",
       "      <th>1</th>\n",
       "      <td>Albania</td>\n",
       "      <td>ALB</td>\n",
       "      <td>1960</td>\n",
       "      <td>NaN</td>\n",
       "    </tr>\n",
       "    <tr>\n",
       "      <th>2</th>\n",
       "      <td>Algeria</td>\n",
       "      <td>DZA</td>\n",
       "      <td>1960</td>\n",
       "      <td>2.723649e+09</td>\n",
       "    </tr>\n",
       "    <tr>\n",
       "      <th>3</th>\n",
       "      <td>American Samoa</td>\n",
       "      <td>ASM</td>\n",
       "      <td>1960</td>\n",
       "      <td>NaN</td>\n",
       "    </tr>\n",
       "    <tr>\n",
       "      <th>4</th>\n",
       "      <td>Andorra</td>\n",
       "      <td>AND</td>\n",
       "      <td>1960</td>\n",
       "      <td>NaN</td>\n",
       "    </tr>\n",
       "  </tbody>\n",
       "</table>\n",
       "</div>"
      ],
      "text/plain": [
       "     Country Name Country Code  Year           GDP\n",
       "0     Afghanistan          AFG  1960  5.377778e+08\n",
       "1         Albania          ALB  1960           NaN\n",
       "2         Algeria          DZA  1960  2.723649e+09\n",
       "3  American Samoa          ASM  1960           NaN\n",
       "4         Andorra          AND  1960           NaN"
      ]
     },
     "execution_count": 11,
     "metadata": {},
     "output_type": "execute_result"
    }
   ],
   "source": [
    "# Glance at the data.\n",
    "w_gdp = pd.read_csv('world_gdp.csv', skiprows = 3)\n",
    "\n",
    "# Remove unnecessary columns\n",
    "w_gdp.drop(['Indicator Name', 'Indicator Code'], axis = 1, inplace = True)\n",
    "\n",
    "# The columns are the years for which the GDP has been recorded. This needs to brought into a single column for efficient\n",
    "# merging.\n",
    "w_gdp = pd.melt(w_gdp, id_vars = ['Country Name', 'Country Code'], var_name = 'Year', value_name = 'GDP')\n",
    "\n",
    "# convert the year column to numeric\n",
    "w_gdp['Year'] = pd.to_numeric(w_gdp['Year'])\n",
    "\n",
    "w_gdp.head()"
   ]
  },
  {
   "cell_type": "markdown",
   "metadata": {
    "_uuid": "29cbbf69dedcdd009e2b86606ed68c6e19c8bee3"
   },
   "source": [
    "Before we actually merge, lets check if NOCs in the olympics data match with those in the Country Code."
   ]
  },
  {
   "cell_type": "code",
   "execution_count": 12,
   "metadata": {
    "_uuid": "325b848aa62c43631e47003e05c04bb0bb877bea"
   },
   "outputs": [
    {
     "data": {
      "text/plain": [
       "108"
      ]
     },
     "execution_count": 12,
     "metadata": {},
     "output_type": "execute_result"
    }
   ],
   "source": [
    "len(list(set(olympics_merge['NOC'].unique()) - set(w_gdp['Country Code'].unique())))"
   ]
  },
  {
   "cell_type": "markdown",
   "metadata": {
    "_uuid": "308e2fd8a95ffb0c7863b1a9d7850ae2b7019d27"
   },
   "source": [
    "So, 108 NOCs in the olympics dataset dont have representation in the gdp data country codes. Is the name of the country a better way to merge?"
   ]
  },
  {
   "cell_type": "code",
   "execution_count": 13,
   "metadata": {
    "_uuid": "c4601d150b3094bf04d61f2584cb4209ffe90f54"
   },
   "outputs": [
    {
     "data": {
      "text/plain": [
       "6"
      ]
     },
     "execution_count": 13,
     "metadata": {},
     "output_type": "execute_result"
    }
   ],
   "source": [
    "len(list(set(olympics_merge['Team'].unique()) - set(w_gdp['Country Name'].unique())))"
   ]
  },
  {
   "cell_type": "markdown",
   "metadata": {
    "_uuid": "21cee61c6d1cec4552f58b6220ffcc62c0f89129"
   },
   "source": [
    "Add a country code for each Team in the olympics dataset first and then merge using the Country Code. The data now has GDP data attached"
   ]
  },
  {
   "cell_type": "code",
   "execution_count": 14,
   "metadata": {
    "_uuid": "ebd2bb09d2543e767047de9e6077160884551214"
   },
   "outputs": [],
   "source": [
    "# Merge to get country code\n",
    "olympics_merge_ccode = olympics_merge.merge(w_gdp[['Country Name', 'Country Code']].drop_duplicates(),\n",
    "                                            left_on = 'Team',\n",
    "                                            right_on = 'Country Name',\n",
    "                                            how = 'left')\n",
    "\n",
    "olympics_merge_ccode.drop('Country Name', axis = 1, inplace = True)\n",
    "\n",
    "# Merge to get gdp too\n",
    "olympics_merge_gdp = olympics_merge_ccode.merge(w_gdp,\n",
    "                                                left_on = ['Country Code', 'Year'],\n",
    "                                                right_on = ['Country Code', 'Year'],\n",
    "                                                how = 'left')\n",
    "\n",
    "olympics_merge_gdp.drop('Country Name', axis = 1, inplace = True)"
   ]
  },
  {
   "cell_type": "markdown",
   "metadata": {
    "_uuid": "b323a7e6b578f2f279e984ca55e6830f9d7777e0"
   },
   "source": [
    "### Merge Population Data\n",
    "Apart from GDP, population is also of import when looking at a countries performance. There are two trains of thought for this - <br>\n",
    "1. Higher populations mean a bigger talent pool to choose from,\n",
    "2. Its not GDP alone but GDP per capita that decides how much resources a country has."
   ]
  },
  {
   "cell_type": "markdown",
   "metadata": {
    "_uuid": "0a43e78facfdce8606d20b781c388c92c467b93e"
   },
   "source": [
    "The first five rows of the population data are shown below. This dataset has Country, year and population statistic. Again, _Indicator Code_ and _Indicator Name_ were deemed unnecessary and removed."
   ]
  },
  {
   "cell_type": "code",
   "execution_count": 15,
   "metadata": {
    "_kg_hide-input": true,
    "_uuid": "969170599379395553e10b1e6ed040e379841f25"
   },
   "outputs": [
    {
     "data": {
      "text/html": [
       "<div>\n",
       "<style scoped>\n",
       "    .dataframe tbody tr th:only-of-type {\n",
       "        vertical-align: middle;\n",
       "    }\n",
       "\n",
       "    .dataframe tbody tr th {\n",
       "        vertical-align: top;\n",
       "    }\n",
       "\n",
       "    .dataframe thead th {\n",
       "        text-align: right;\n",
       "    }\n",
       "</style>\n",
       "<table border=\"1\" class=\"dataframe\">\n",
       "  <thead>\n",
       "    <tr style=\"text-align: right;\">\n",
       "      <th></th>\n",
       "      <th>Country</th>\n",
       "      <th>Country Code</th>\n",
       "      <th>Year</th>\n",
       "      <th>Population</th>\n",
       "    </tr>\n",
       "  </thead>\n",
       "  <tbody>\n",
       "    <tr>\n",
       "      <th>0</th>\n",
       "      <td>Aruba</td>\n",
       "      <td>ABW</td>\n",
       "      <td>1960</td>\n",
       "      <td>54211.0</td>\n",
       "    </tr>\n",
       "    <tr>\n",
       "      <th>1</th>\n",
       "      <td>Afghanistan</td>\n",
       "      <td>AFG</td>\n",
       "      <td>1960</td>\n",
       "      <td>8996351.0</td>\n",
       "    </tr>\n",
       "    <tr>\n",
       "      <th>2</th>\n",
       "      <td>Angola</td>\n",
       "      <td>AGO</td>\n",
       "      <td>1960</td>\n",
       "      <td>5643182.0</td>\n",
       "    </tr>\n",
       "    <tr>\n",
       "      <th>3</th>\n",
       "      <td>Albania</td>\n",
       "      <td>ALB</td>\n",
       "      <td>1960</td>\n",
       "      <td>1608800.0</td>\n",
       "    </tr>\n",
       "    <tr>\n",
       "      <th>4</th>\n",
       "      <td>Andorra</td>\n",
       "      <td>AND</td>\n",
       "      <td>1960</td>\n",
       "      <td>13411.0</td>\n",
       "    </tr>\n",
       "  </tbody>\n",
       "</table>\n",
       "</div>"
      ],
      "text/plain": [
       "       Country Country Code  Year  Population\n",
       "0        Aruba          ABW  1960     54211.0\n",
       "1  Afghanistan          AFG  1960   8996351.0\n",
       "2       Angola          AGO  1960   5643182.0\n",
       "3      Albania          ALB  1960   1608800.0\n",
       "4      Andorra          AND  1960     13411.0"
      ]
     },
     "execution_count": 15,
     "metadata": {},
     "output_type": "execute_result"
    }
   ],
   "source": [
    "# Read in the population data\n",
    "w_pop = pd.read_csv('world_pop.csv')\n",
    "\n",
    "w_pop.drop(['Indicator Name', 'Indicator Code'], axis = 1, inplace = True)\n",
    "\n",
    "w_pop = pd.melt(w_pop, id_vars = ['Country', 'Country Code'], var_name = 'Year', value_name = 'Population')\n",
    "\n",
    "# Change the Year to integer type\n",
    "w_pop['Year'] = pd.to_numeric(w_pop['Year'])\n",
    "\n",
    "w_pop.head()"
   ]
  },
  {
   "cell_type": "markdown",
   "metadata": {
    "_uuid": "b6661ca0ca8a8e5587d23b1d86b0a07200335e8c"
   },
   "source": [
    "Merging this data on _Year_ and _Country Code_ we finally get a complete dataset with GDP and Population mapped. A few sample rows are shown below."
   ]
  },
  {
   "cell_type": "code",
   "execution_count": 16,
   "metadata": {
    "_kg_hide-input": true,
    "_uuid": "2d3640baa769259ef5590123d35130419816cb77"
   },
   "outputs": [
    {
     "data": {
      "text/html": [
       "<div>\n",
       "<style scoped>\n",
       "    .dataframe tbody tr th:only-of-type {\n",
       "        vertical-align: middle;\n",
       "    }\n",
       "\n",
       "    .dataframe tbody tr th {\n",
       "        vertical-align: top;\n",
       "    }\n",
       "\n",
       "    .dataframe thead th {\n",
       "        text-align: right;\n",
       "    }\n",
       "</style>\n",
       "<table border=\"1\" class=\"dataframe\">\n",
       "  <thead>\n",
       "    <tr style=\"text-align: right;\">\n",
       "      <th></th>\n",
       "      <th>ID</th>\n",
       "      <th>Name</th>\n",
       "      <th>Sex</th>\n",
       "      <th>Age</th>\n",
       "      <th>Height</th>\n",
       "      <th>Weight</th>\n",
       "      <th>NOC</th>\n",
       "      <th>Games</th>\n",
       "      <th>Year</th>\n",
       "      <th>Season</th>\n",
       "      <th>City</th>\n",
       "      <th>Sport</th>\n",
       "      <th>Event</th>\n",
       "      <th>Medal</th>\n",
       "      <th>Team</th>\n",
       "      <th>Country Code</th>\n",
       "      <th>GDP</th>\n",
       "      <th>Population</th>\n",
       "    </tr>\n",
       "  </thead>\n",
       "  <tbody>\n",
       "    <tr>\n",
       "      <th>0</th>\n",
       "      <td>1</td>\n",
       "      <td>A Dijiang</td>\n",
       "      <td>M</td>\n",
       "      <td>24.0</td>\n",
       "      <td>180.0</td>\n",
       "      <td>80.0</td>\n",
       "      <td>CHN</td>\n",
       "      <td>1992 Summer</td>\n",
       "      <td>1992</td>\n",
       "      <td>Summer</td>\n",
       "      <td>Barcelona</td>\n",
       "      <td>Basketball</td>\n",
       "      <td>Basketball Men's Basketball</td>\n",
       "      <td>DNW</td>\n",
       "      <td>China</td>\n",
       "      <td>CHN</td>\n",
       "      <td>4.269160e+11</td>\n",
       "      <td>1.164970e+09</td>\n",
       "    </tr>\n",
       "    <tr>\n",
       "      <th>1</th>\n",
       "      <td>2</td>\n",
       "      <td>A Lamusi</td>\n",
       "      <td>M</td>\n",
       "      <td>23.0</td>\n",
       "      <td>170.0</td>\n",
       "      <td>60.0</td>\n",
       "      <td>CHN</td>\n",
       "      <td>2012 Summer</td>\n",
       "      <td>2012</td>\n",
       "      <td>Summer</td>\n",
       "      <td>London</td>\n",
       "      <td>Judo</td>\n",
       "      <td>Judo Men's Extra-Lightweight</td>\n",
       "      <td>DNW</td>\n",
       "      <td>China</td>\n",
       "      <td>CHN</td>\n",
       "      <td>8.560550e+12</td>\n",
       "      <td>1.350695e+09</td>\n",
       "    </tr>\n",
       "    <tr>\n",
       "      <th>2</th>\n",
       "      <td>3</td>\n",
       "      <td>Gunnar Nielsen Aaby</td>\n",
       "      <td>M</td>\n",
       "      <td>24.0</td>\n",
       "      <td>NaN</td>\n",
       "      <td>NaN</td>\n",
       "      <td>DEN</td>\n",
       "      <td>1920 Summer</td>\n",
       "      <td>1920</td>\n",
       "      <td>Summer</td>\n",
       "      <td>Antwerpen</td>\n",
       "      <td>Football</td>\n",
       "      <td>Football Men's Football</td>\n",
       "      <td>DNW</td>\n",
       "      <td>Denmark</td>\n",
       "      <td>DNK</td>\n",
       "      <td>NaN</td>\n",
       "      <td>NaN</td>\n",
       "    </tr>\n",
       "    <tr>\n",
       "      <th>3</th>\n",
       "      <td>4</td>\n",
       "      <td>Edgar Lindenau Aabye</td>\n",
       "      <td>M</td>\n",
       "      <td>34.0</td>\n",
       "      <td>NaN</td>\n",
       "      <td>NaN</td>\n",
       "      <td>DEN</td>\n",
       "      <td>1900 Summer</td>\n",
       "      <td>1900</td>\n",
       "      <td>Summer</td>\n",
       "      <td>Paris</td>\n",
       "      <td>Tug-Of-War</td>\n",
       "      <td>Tug-Of-War Men's Tug-Of-War</td>\n",
       "      <td>Gold</td>\n",
       "      <td>Denmark</td>\n",
       "      <td>DNK</td>\n",
       "      <td>NaN</td>\n",
       "      <td>NaN</td>\n",
       "    </tr>\n",
       "    <tr>\n",
       "      <th>4</th>\n",
       "      <td>5</td>\n",
       "      <td>Christine Jacoba Aaftink</td>\n",
       "      <td>F</td>\n",
       "      <td>21.0</td>\n",
       "      <td>185.0</td>\n",
       "      <td>82.0</td>\n",
       "      <td>NED</td>\n",
       "      <td>1988 Winter</td>\n",
       "      <td>1988</td>\n",
       "      <td>Winter</td>\n",
       "      <td>Calgary</td>\n",
       "      <td>Speed Skating</td>\n",
       "      <td>Speed Skating Women's 500 metres</td>\n",
       "      <td>DNW</td>\n",
       "      <td>Netherlands</td>\n",
       "      <td>NLD</td>\n",
       "      <td>2.585680e+11</td>\n",
       "      <td>1.476009e+07</td>\n",
       "    </tr>\n",
       "  </tbody>\n",
       "</table>\n",
       "</div>"
      ],
      "text/plain": [
       "   ID                      Name Sex   Age  Height  Weight  NOC        Games  \\\n",
       "0   1                 A Dijiang   M  24.0   180.0    80.0  CHN  1992 Summer   \n",
       "1   2                  A Lamusi   M  23.0   170.0    60.0  CHN  2012 Summer   \n",
       "2   3       Gunnar Nielsen Aaby   M  24.0     NaN     NaN  DEN  1920 Summer   \n",
       "3   4      Edgar Lindenau Aabye   M  34.0     NaN     NaN  DEN  1900 Summer   \n",
       "4   5  Christine Jacoba Aaftink   F  21.0   185.0    82.0  NED  1988 Winter   \n",
       "\n",
       "   Year  Season       City          Sport                             Event  \\\n",
       "0  1992  Summer  Barcelona     Basketball       Basketball Men's Basketball   \n",
       "1  2012  Summer     London           Judo      Judo Men's Extra-Lightweight   \n",
       "2  1920  Summer  Antwerpen       Football           Football Men's Football   \n",
       "3  1900  Summer      Paris     Tug-Of-War       Tug-Of-War Men's Tug-Of-War   \n",
       "4  1988  Winter    Calgary  Speed Skating  Speed Skating Women's 500 metres   \n",
       "\n",
       "  Medal         Team Country Code           GDP    Population  \n",
       "0   DNW        China          CHN  4.269160e+11  1.164970e+09  \n",
       "1   DNW        China          CHN  8.560550e+12  1.350695e+09  \n",
       "2   DNW      Denmark          DNK           NaN           NaN  \n",
       "3  Gold      Denmark          DNK           NaN           NaN  \n",
       "4   DNW  Netherlands          NLD  2.585680e+11  1.476009e+07  "
      ]
     },
     "execution_count": 16,
     "metadata": {},
     "output_type": "execute_result"
    }
   ],
   "source": [
    "olympics_complete = olympics_merge_gdp.merge(w_pop,\n",
    "                                            left_on = ['Country Code', 'Year'],\n",
    "                                            right_on= ['Country Code', 'Year'],\n",
    "                                            how = 'left')\n",
    "\n",
    "olympics_complete.drop('Country', axis = 1, inplace = True)\n",
    "\n",
    "olympics_complete.head()"
   ]
  },
  {
   "cell_type": "markdown",
   "metadata": {
    "_uuid": "276761d6bbb512b3d21a6ef3d2dff730203fc736"
   },
   "source": [
    "There are a lot of missing values in the resulting data - this is to be attributed to the countries not found in the GDP and population masters and also the fact that Population and GDP are only for 1961 onwards while Olympics data is from 1896. Therefore, let's consider only data from 1961 onwards."
   ]
  },
  {
   "cell_type": "code",
   "execution_count": 17,
   "metadata": {
    "_kg_hide-input": true,
    "_uuid": "ce3a02a147e9c7faee0b7cf2150842832c2ed8f6"
   },
   "outputs": [
    {
     "data": {
      "text/plain": [
       "ID                  0\n",
       "Name                0\n",
       "Sex                 0\n",
       "Age              9474\n",
       "Height          60171\n",
       "Weight          62875\n",
       "NOC                 0\n",
       "Games               0\n",
       "Year                0\n",
       "Season              0\n",
       "City                0\n",
       "Sport               0\n",
       "Event               0\n",
       "Medal               0\n",
       "Team                0\n",
       "Country Code     1397\n",
       "GDP             86925\n",
       "Population      65120\n",
       "dtype: int64"
      ]
     },
     "execution_count": 17,
     "metadata": {},
     "output_type": "execute_result"
    }
   ],
   "source": [
    "olympics_complete.isnull().sum()"
   ]
  },
  {
   "cell_type": "code",
   "execution_count": 18,
   "metadata": {
    "_uuid": "232abe75cc70bb1199d261aa7894e6fa1fd4648a"
   },
   "outputs": [],
   "source": [
    "# Lets take data from 1961 onwards only and for summer olympics only\n",
    "olympics_complete_subset = olympics_complete.loc[(olympics_complete['Year'] > 1960) & (olympics_complete['Season'] == \"Summer\"), :]\n",
    "\n",
    "# Reset row indices\n",
    "olympics_complete_subset = olympics_complete_subset.reset_index()"
   ]
  },
  {
   "cell_type": "markdown",
   "metadata": {
    "_uuid": "5b76d5fcfb1b2106a4a68391808aac1d885bce3e"
   },
   "source": [
    "### Exploratory Data Analysis"
   ]
  },
  {
   "cell_type": "markdown",
   "metadata": {
    "_uuid": "be4390d3cbf0b4da4070d080c58dafb64deb6688"
   },
   "source": [
    "### Who has the most medals across all editions of the olympics?\n",
    "Medal tally is the sum of all medals won.\n",
    "\n",
    "Let's create a column that captures whether or not a medal was won! It would be 1 if Medal column says Gold, Silver or Bronze and 0 otherwise."
   ]
  },
  {
   "cell_type": "code",
   "execution_count": 19,
   "metadata": {
    "_uuid": "fbf3c0f5009ec0be75949252571835045fc3ce20"
   },
   "outputs": [],
   "source": [
    "olympics_complete_subset['Medal_Won'] = np.where(olympics_complete_subset.loc[:,'Medal'] == 'DNW', 0, 1)"
   ]
  },
  {
   "cell_type": "markdown",
   "metadata": {
    "_uuid": "f8d3b1bf4a8c2b6422fccfef71af22507e674a3d"
   },
   "source": [
    "Before we find out the best olympics nations, we need to realise that each row of the data actually represents whether or not an athlete won a medal or not. This means that for team events, just a sum of the 'Medal_Won' column would give us an incorrect picture of the medal tally. \n",
    "\n",
    "We need to correct for this. First, lets analyse which events are team events. So, what events are team events?\n",
    "#### If a team wins more than one gold medal for an event in an edition of the olympics, then that event is a team event."
   ]
  },
  {
   "cell_type": "code",
   "execution_count": 20,
   "metadata": {
    "_uuid": "bb562d0f0e5eb85eb6910b3e01a8a3f8746fbb1f"
   },
   "outputs": [],
   "source": [
    "# Check whether number of medals won in a year for an event by a team exceeds 1. This indicates a team event.\n",
    "identify_team_events = pd.pivot_table(olympics_complete_subset,\n",
    "                                      index = ['Team', 'Year', 'Event'],\n",
    "                                      columns = 'Medal',\n",
    "                                      values = 'Medal_Won',\n",
    "                                      aggfunc = 'sum',\n",
    "                                     fill_value = 0).drop('DNW', axis = 1).reset_index()\n",
    "\n",
    "identify_team_events = identify_team_events.loc[identify_team_events['Gold'] > 1, :]\n",
    "\n",
    "team_sports = identify_team_events['Event'].unique()"
   ]
  },
  {
   "cell_type": "markdown",
   "metadata": {
    "_uuid": "cac7f67bc0be601a304bf9e885b303c7e1275d7b"
   },
   "source": [
    "The list below gives names of each event where in a single edition multiple golds were given. Although these are recognised as team events, they are not actually team events. Some examples include - <br>\n",
    "    1. Gymnastics Women's Balance Beam\n",
    "    2. Gymnastics Men's Horizontal Bar\n",
    "    3. Swimming Women's 100 metres Freestyle\n",
    "    4. Swimming Men's 50 metres Freestyle\n",
    "\n",
    "Upon analysis, I found that these are actually single events but because two athletes had the same score/time, both were awarded the gold medal. We need to remove these events from the list of team sports"
   ]
  },
  {
   "cell_type": "code",
   "execution_count": 21,
   "metadata": {
    "_kg_hide-input": false,
    "_uuid": "d8d03502b5d852d531c596edd977d89d01f17334"
   },
   "outputs": [],
   "source": [
    "remove_sports = [\"Gymnastics Women's Balance Beam\", \"Gymnastics Men's Horizontal Bar\", \n",
    "                 \"Swimming Women's 100 metres Freestyle\", \"Swimming Men's 50 metres Freestyle\"]\n",
    "\n",
    "team_sports = list(set(team_sports) - set(remove_sports))"
   ]
  },
  {
   "cell_type": "markdown",
   "metadata": {
    "_uuid": "a46d9648c94e03d79f37b260db933680512aab1f"
   },
   "source": [
    "The next thing we need to do is add a column in the dataset that correctly identifies whether the event in the given record is a team event or a single event. We then use this column to correctly calculate the medal tally for each country."
   ]
  },
  {
   "cell_type": "code",
   "execution_count": 22,
   "metadata": {
    "_uuid": "da6000c16668ef05fe75ed87d9bf7758091d4c21"
   },
   "outputs": [],
   "source": [
    "# if an event name matches with one in team sports, then it is a team event. Others are singles events.\n",
    "team_event_mask = olympics_complete_subset['Event'].map(lambda x: x in team_sports)\n",
    "single_event_mask = [not i for i in team_event_mask]\n",
    "\n",
    "# rows where medal_won is 1\n",
    "medal_mask = olympics_complete_subset['Medal_Won'] == 1\n",
    "\n",
    "# Put 1 under team event if medal is won and event in team event list\n",
    "olympics_complete_subset['Team_Event'] = np.where(team_event_mask & medal_mask, 1, 0)\n",
    "\n",
    "# Put 1 under singles event if medal is won and event not in team event list\n",
    "olympics_complete_subset['Single_Event'] = np.where(single_event_mask & medal_mask, 1, 0)\n",
    "\n",
    "# Add an identifier for team/single event\n",
    "olympics_complete_subset['Event_Category'] = olympics_complete_subset['Single_Event'] + \\\n",
    "olympics_complete_subset['Team_Event']"
   ]
  },
  {
   "cell_type": "markdown",
   "metadata": {
    "_uuid": "de4b64a550d3ac2daeef3c3c7f7b5f9b617c2ef8"
   },
   "source": [
    "Now, its time to calculate medal tally agnostic of the team size - one gold means one gold for an event. To do this we divide the number of medals by the count of winning team members. How do we get the team members? Sum of event_category column should do that for us!"
   ]
  },
  {
   "cell_type": "code",
   "execution_count": 23,
   "metadata": {
    "_uuid": "c8c8b3a22c29c3e7a2cd1338c910116e8af32d87"
   },
   "outputs": [],
   "source": [
    "medal_tally_agnostic = olympics_complete_subset.\\\n",
    "groupby(['Year', 'Team', 'Event', 'Medal'])[['Medal_Won', 'Event_Category']].\\\n",
    "agg('sum').reset_index()\n",
    "\n",
    "medal_tally_agnostic['Medal_Won_Corrected'] = medal_tally_agnostic['Medal_Won']/medal_tally_agnostic['Event_Category']"
   ]
  },
  {
   "cell_type": "markdown",
   "metadata": {
    "_uuid": "bbdd68a62e443ec98b0c652a9483484fdb2e787b"
   },
   "source": [
    "Who are the greatest olympics playing nations of all time? With the corrected data, lets find out the total medal tally of the top 4 countries from 1964 to 2016!"
   ]
  },
  {
   "cell_type": "code",
   "execution_count": 24,
   "metadata": {
    "_kg_hide-input": true,
    "_uuid": "d8fb7d8d15c22907c231038e8e69b1d5367ae90e"
   },
   "outputs": [
    {
     "data": {
      "text/plain": [
       "Team\n",
       "USA        1387.0\n",
       "Russia     1298.0\n",
       "Germany    1042.0\n",
       "China       545.0\n",
       "Name: All, dtype: float64"
      ]
     },
     "execution_count": 24,
     "metadata": {},
     "output_type": "execute_result"
    }
   ],
   "source": [
    "# Medal Tally.\n",
    "medal_tally = medal_tally_agnostic.groupby(['Year','Team'])['Medal_Won_Corrected'].agg('sum').reset_index()\n",
    "\n",
    "medal_tally_pivot = pd.pivot_table(medal_tally,\n",
    "                     index = 'Team',\n",
    "                     columns = 'Year',\n",
    "                     values = 'Medal_Won_Corrected',\n",
    "                     aggfunc = 'sum',\n",
    "                     margins = True).sort_values('All', ascending = False)[1:5]\n",
    "\n",
    "# print total medals won in the given period\n",
    "medal_tally_pivot.loc[:,'All']"
   ]
  },
  {
   "cell_type": "markdown",
   "metadata": {
    "_uuid": "db275f3c750430e927bd20ccaadf3d47c5f6f008"
   },
   "source": [
    "**USA, Russia, Germany** and **China** are the best countries of all time when it comes to medal tallies from 1964 to 2016. What do the yearwise medal tallies look like?"
   ]
  },
  {
   "cell_type": "code",
   "execution_count": 25,
   "metadata": {
    "_kg_hide-input": true,
    "_uuid": "f189c7e287a9804cf823430f8cfc31b26090df0c"
   },
   "outputs": [
    {
     "data": {
      "text/plain": [
       "Text(0.5, 1.0, 'Olympic Performance Comparison')"
      ]
     },
     "execution_count": 25,
     "metadata": {},
     "output_type": "execute_result"
    },
    {
     "data": {
      "image/png": "[encoded data removed]",
      "text/plain": [
       "<Figure size 720x576 with 1 Axes>"
      ]
     },
     "metadata": {
      "needs_background": "light"
     },
     "output_type": "display_data"
    }
   ],
   "source": [
    "# List of top countries\n",
    "top_countries = ['USA', 'Russia', 'Germany', 'China']\n",
    "\n",
    "year_team_medals = pd.pivot_table(medal_tally,\n",
    "                                  index = 'Year',\n",
    "                                  columns = 'Team',\n",
    "                                  values = 'Medal_Won_Corrected',\n",
    "                                  aggfunc = 'sum')[top_countries]\n",
    "\n",
    "# plotting the medal tallies\n",
    "year_team_medals.plot(linestyle = '-', marker = 'o', alpha = 0.9, figsize = (10,8), linewidth = 2)\n",
    "xlabel('Olympic Year')\n",
    "ylabel('Number of Medals')\n",
    "title('Olympic Performance Comparison')"
   ]
  },
  {
   "cell_type": "markdown",
   "metadata": {
    "_uuid": "262d0017c0d15db68411e36877b86c19993fb559"
   },
   "source": [
    "Insight 1: The blank value at 1980 for USA and China is not a data error! In 1980, the United States led a boycott of the Summer Olympic Games in Moscow to protest the late 1979 Soviet invasion of Afghanistan. In total, 65 nations refused to participate in the games, whereas 80 countries sent athletes to compete, India being one of those.\n",
    "\n",
    "Insight 2:The missing point at 1984 for Russia is no error either! The boycott of the 1984 Summer Olympics in Los Angeles followed four years after the U.S.-led boycott of the 1980 Summer Olympics in Moscow. The boycott involved 14 Eastern Bloc countries and allies, led by the Soviet Union, which initiated the boycott on May 8, 1984.\n",
    "\n",
    "Insight 3 - China did not win in the olympics till 1984 and it has shown excellent performance since then."
   ]
  },
  {
   "cell_type": "markdown",
   "metadata": {
    "_uuid": "b7c018fc3b55f6147a1f1d060c0869aaaf5edfe6"
   },
   "source": [
    "#### Lets plot a breakup of medal tally by the medal type - Gold, Silver, Bronze"
   ]
  },
  {
   "cell_type": "code",
   "execution_count": 26,
   "metadata": {
    "_kg_hide-input": true,
    "_uuid": "d64e45898c5679e48abd75bf24ece909adfc467c"
   },
   "outputs": [
    {
     "data": {
      "text/plain": [
       "Text(0, 0.5, 'Country')"
      ]
     },
     "execution_count": 26,
     "metadata": {},
     "output_type": "execute_result"
    },
    {
     "data": {
      "image/png": "[encoded data removed]",
      "text/plain": [
       "<Figure size 576x432 with 1 Axes>"
      ]
     },
     "metadata": {
      "needs_background": "light"
     },
     "output_type": "display_data"
    }
   ],
   "source": [
    "# List of top countries\n",
    "top_countries = ['USA', 'Russia', 'Germany', 'China']\n",
    "\n",
    "# row mask where countries match\n",
    "row_mask_2 = medal_tally_agnostic['Team'].map(lambda x: x in top_countries)\n",
    "\n",
    "# Pivot table to calculate sum of gold, silver and bronze medals for each country\n",
    "medal_tally_specific = pd.pivot_table(medal_tally_agnostic[row_mask_2],\n",
    "                                     index = ['Team'],\n",
    "                                     columns = 'Medal',\n",
    "                                     values = 'Medal_Won_Corrected',\n",
    "                                     aggfunc = 'sum',\n",
    "                                     fill_value = 0).drop('DNW', axis = 1)\n",
    "\n",
    "# Re-order the columns so that they appear in order on the chart.\n",
    "medal_tally_specific = medal_tally_specific.loc[:, ['Gold', 'Silver', 'Bronze']]\n",
    "\n",
    "medal_tally_specific.plot(kind = 'bar', stacked = True, figsize = (8,6), rot = 0)\n",
    "xlabel('Number of Medals')\n",
    "ylabel('Country')"
   ]
  },
  {
   "cell_type": "markdown",
   "metadata": {
    "_uuid": "103e4b10f058850f0d1d33a585a0f0b781baa5ab"
   },
   "source": [
    "### What sports are these countries best at? \n",
    "\n",
    "So, what we want to find here are the events for which a country has the most proportion of gold medals from its own gold medal tally across the years."
   ]
  },
  {
   "cell_type": "code",
   "execution_count": 27,
   "metadata": {
    "_uuid": "08a237e9b85a35e105bd443307571ab9371b3b76"
   },
   "outputs": [
    {
     "data": {
      "text/html": [
       "<div>\n",
       "<style scoped>\n",
       "    .dataframe tbody tr th:only-of-type {\n",
       "        vertical-align: middle;\n",
       "    }\n",
       "\n",
       "    .dataframe tbody tr th {\n",
       "        vertical-align: top;\n",
       "    }\n",
       "\n",
       "    .dataframe thead th {\n",
       "        text-align: right;\n",
       "    }\n",
       "</style>\n",
       "<table border=\"1\" class=\"dataframe\">\n",
       "  <thead>\n",
       "    <tr style=\"text-align: right;\">\n",
       "      <th></th>\n",
       "      <th>Team</th>\n",
       "      <th>Event</th>\n",
       "      <th>Gold_Medal_Count</th>\n",
       "    </tr>\n",
       "  </thead>\n",
       "  <tbody>\n",
       "    <tr>\n",
       "      <th>0</th>\n",
       "      <td>China</td>\n",
       "      <td>Diving Women's Springboard</td>\n",
       "      <td>8</td>\n",
       "    </tr>\n",
       "    <tr>\n",
       "      <th>1</th>\n",
       "      <td>China</td>\n",
       "      <td>Table Tennis Women's Singles</td>\n",
       "      <td>8</td>\n",
       "    </tr>\n",
       "    <tr>\n",
       "      <th>2</th>\n",
       "      <td>China</td>\n",
       "      <td>Diving Women's Platform</td>\n",
       "      <td>7</td>\n",
       "    </tr>\n",
       "    <tr>\n",
       "      <th>3</th>\n",
       "      <td>China</td>\n",
       "      <td>Weightlifting Men's Lightweight</td>\n",
       "      <td>6</td>\n",
       "    </tr>\n",
       "    <tr>\n",
       "      <th>4</th>\n",
       "      <td>China</td>\n",
       "      <td>Badminton Women's Doubles</td>\n",
       "      <td>5</td>\n",
       "    </tr>\n",
       "    <tr>\n",
       "      <th>343</th>\n",
       "      <td>Germany</td>\n",
       "      <td>Equestrianism Mixed Dressage, Team</td>\n",
       "      <td>11</td>\n",
       "    </tr>\n",
       "    <tr>\n",
       "      <th>344</th>\n",
       "      <td>Germany</td>\n",
       "      <td>Canoeing Women's Kayak Doubles, 500 metres</td>\n",
       "      <td>7</td>\n",
       "    </tr>\n",
       "    <tr>\n",
       "      <th>345</th>\n",
       "      <td>Germany</td>\n",
       "      <td>Rowing Men's Quadruple Sculls</td>\n",
       "      <td>7</td>\n",
       "    </tr>\n",
       "    <tr>\n",
       "      <th>346</th>\n",
       "      <td>Germany</td>\n",
       "      <td>Rowing Women's Quadruple Sculls</td>\n",
       "      <td>6</td>\n",
       "    </tr>\n",
       "    <tr>\n",
       "      <th>347</th>\n",
       "      <td>Germany</td>\n",
       "      <td>Athletics Men's Discus Throw</td>\n",
       "      <td>5</td>\n",
       "    </tr>\n",
       "    <tr>\n",
       "      <th>695</th>\n",
       "      <td>Russia</td>\n",
       "      <td>Wrestling Men's Heavyweight, Freestyle</td>\n",
       "      <td>9</td>\n",
       "    </tr>\n",
       "    <tr>\n",
       "      <th>696</th>\n",
       "      <td>Russia</td>\n",
       "      <td>Fencing Men's Sabre, Team</td>\n",
       "      <td>7</td>\n",
       "    </tr>\n",
       "    <tr>\n",
       "      <th>697</th>\n",
       "      <td>Russia</td>\n",
       "      <td>Gymnastics Women's Team All-Around</td>\n",
       "      <td>7</td>\n",
       "    </tr>\n",
       "    <tr>\n",
       "      <th>698</th>\n",
       "      <td>Russia</td>\n",
       "      <td>Rhythmic Gymnastics Women's Individual</td>\n",
       "      <td>7</td>\n",
       "    </tr>\n",
       "    <tr>\n",
       "      <th>699</th>\n",
       "      <td>Russia</td>\n",
       "      <td>Wrestling Men's Light-Heavyweight, Freestyle</td>\n",
       "      <td>7</td>\n",
       "    </tr>\n",
       "    <tr>\n",
       "      <th>1049</th>\n",
       "      <td>USA</td>\n",
       "      <td>Swimming Men's 4 x 100 metres Medley Relay</td>\n",
       "      <td>13</td>\n",
       "    </tr>\n",
       "    <tr>\n",
       "      <th>1050</th>\n",
       "      <td>USA</td>\n",
       "      <td>Swimming Men's 4 x 200 metres Freestyle Relay</td>\n",
       "      <td>11</td>\n",
       "    </tr>\n",
       "    <tr>\n",
       "      <th>1051</th>\n",
       "      <td>USA</td>\n",
       "      <td>Athletics Men's 4 x 400 metres Relay</td>\n",
       "      <td>10</td>\n",
       "    </tr>\n",
       "    <tr>\n",
       "      <th>1052</th>\n",
       "      <td>USA</td>\n",
       "      <td>Athletics Men's 400 metres</td>\n",
       "      <td>10</td>\n",
       "    </tr>\n",
       "    <tr>\n",
       "      <th>1053</th>\n",
       "      <td>USA</td>\n",
       "      <td>Basketball Men's Basketball</td>\n",
       "      <td>10</td>\n",
       "    </tr>\n",
       "  </tbody>\n",
       "</table>\n",
       "</div>"
      ],
      "text/plain": [
       "         Team                                          Event  Gold_Medal_Count\n",
       "0       China                     Diving Women's Springboard                 8\n",
       "1       China                   Table Tennis Women's Singles                 8\n",
       "2       China                        Diving Women's Platform                 7\n",
       "3       China                Weightlifting Men's Lightweight                 6\n",
       "4       China                      Badminton Women's Doubles                 5\n",
       "343   Germany             Equestrianism Mixed Dressage, Team                11\n",
       "344   Germany     Canoeing Women's Kayak Doubles, 500 metres                 7\n",
       "345   Germany                  Rowing Men's Quadruple Sculls                 7\n",
       "346   Germany                Rowing Women's Quadruple Sculls                 6\n",
       "347   Germany                   Athletics Men's Discus Throw                 5\n",
       "695    Russia         Wrestling Men's Heavyweight, Freestyle                 9\n",
       "696    Russia                      Fencing Men's Sabre, Team                 7\n",
       "697    Russia             Gymnastics Women's Team All-Around                 7\n",
       "698    Russia         Rhythmic Gymnastics Women's Individual                 7\n",
       "699    Russia   Wrestling Men's Light-Heavyweight, Freestyle                 7\n",
       "1049      USA     Swimming Men's 4 x 100 metres Medley Relay                13\n",
       "1050      USA  Swimming Men's 4 x 200 metres Freestyle Relay                11\n",
       "1051      USA           Athletics Men's 4 x 400 metres Relay                10\n",
       "1052      USA                     Athletics Men's 400 metres                10\n",
       "1053      USA                    Basketball Men's Basketball                10"
      ]
     },
     "execution_count": 27,
     "metadata": {},
     "output_type": "execute_result"
    }
   ],
   "source": [
    "# To get the sports, teams are best at, we now aggregate the medal_tally_agnostic dataframe as we did earlier.\n",
    "best_team_sports = pd.pivot_table(medal_tally_agnostic[row_mask_2],\n",
    "                                  index = ['Team', 'Event'],\n",
    "                                  columns = 'Medal',\n",
    "                                  values = 'Medal_Won_Corrected',\n",
    "                                  aggfunc = 'sum',\n",
    "                                  fill_value = 0).sort_values(['Team', 'Gold'], ascending = [True, False]).reset_index()\n",
    "\n",
    "best_team_sports.drop(['Bronze', 'Silver', 'DNW'], axis = 1, inplace = True)\n",
    "best_team_sports.columns = ['Team', 'Event', 'Gold_Medal_Count']\n",
    "\n",
    "best_team_sports.groupby('Team').head(5)"
   ]
  },
  {
   "cell_type": "markdown",
   "metadata": {
    "_uuid": "474a225eebfe3d29cf07fdf9abfd43fec527f6cc"
   },
   "source": [
    "We see that Chinese are good at diving - both men and women, Germans excel at equestrian sports, Russians likes to wrestle and Americans likes to swim."
   ]
  },
  {
   "cell_type": "markdown",
   "metadata": {
    "_uuid": "dc826afb133ffa4f1f63b9e819f915f4d60d4dd7"
   },
   "source": [
    "## Size of Olympic contingent that these countries send to the Olympics!"
   ]
  },
  {
   "cell_type": "markdown",
   "metadata": {
    "_uuid": "64aab584e68c02d45bb3aa715f765e6bfc322980"
   },
   "source": [
    "How do the contingents for the various countries look like? I want to know two things specifically - \n",
    "1. The total contingent size being sent to the Olympics\n",
    "2. The team constitution in terms of the proportion of males and females."
   ]
  },
  {
   "cell_type": "code",
   "execution_count": 28,
   "metadata": {
    "_uuid": "6c51a5f204b766d2f649f8fd196e56f25d85bd9e"
   },
   "outputs": [],
   "source": [
    "# take for each year, the team, name of the athlete and gender of the athlete and drop duplicates. These are values\n",
    "# where the same athlete is taking part in more than one sport.\n",
    "\n",
    "# get rows with top countries\n",
    "row_mask_3 = olympics_complete_subset['Team'].map(lambda x: x in top_countries)\n",
    "\n",
    "year_team_gender = olympics_complete_subset.loc[row_mask_3, ['Year','Team', 'Name', 'Sex']].drop_duplicates()"
   ]
  },
  {
   "cell_type": "code",
   "execution_count": 29,
   "metadata": {
    "_uuid": "bbe9cc61c9bdfea807fafe9fad41280691e11856"
   },
   "outputs": [],
   "source": [
    "# Create a pivot table to count gender wise representation of each team in each year\n",
    "year_team_gender_count = pd.pivot_table(year_team_gender,\n",
    "                                        index = ['Year', 'Team'],\n",
    "                                        columns = 'Sex',\n",
    "                                        aggfunc = 'count').reset_index()\n",
    "\n",
    "# rename columns as per column names in the 0th level\n",
    "year_team_gender_count.columns = year_team_gender_count.columns.get_level_values(0)\n",
    "\n",
    "# rename the columns appropriately\n",
    "year_team_gender_count.columns = ['Year', 'Team', 'Female_Athletes', 'Male_Athletes']\n",
    "\n",
    "# get total athletes per team-year\n",
    "year_team_gender_count['Total_Athletes'] = year_team_gender_count['Female_Athletes'] + \\\n",
    "year_team_gender_count['Male_Athletes']"
   ]
  },
  {
   "cell_type": "code",
   "execution_count": 30,
   "metadata": {
    "_uuid": "44b423d0e5470de66b3cb6fbec2ec945ff147c86"
   },
   "outputs": [
    {
     "name": "stderr",
     "output_type": "stream",
     "text": [
      "C:\\Users\\ASUS\\AppData\\Local\\Temp\\ipykernel_11208\\3628397764.py:4: SettingWithCopyWarning: \n",
      "A value is trying to be set on a copy of a slice from a DataFrame\n",
      "\n",
      "See the caveats in the documentation: https://pandas.pydata.org/pandas-docs/stable/user_guide/indexing.html#returning-a-view-versus-a-copy\n",
      "  chi_data.fillna(0, inplace = True)\n"
     ]
    }
   ],
   "source": [
    "# Separate country wise data\n",
    "\n",
    "chi_data = year_team_gender_count[year_team_gender_count['Team'] == \"China\"]\n",
    "chi_data.fillna(0, inplace = True)\n",
    "chi_data.set_index('Year', inplace = True)\n",
    "\n",
    "ger_data = year_team_gender_count[year_team_gender_count['Team'] == \"Germany\"]\n",
    "ger_data.set_index('Year', inplace = True)\n",
    "\n",
    "rus_data = year_team_gender_count[year_team_gender_count['Team'] == \"Russia\"]\n",
    "rus_data.set_index('Year', inplace = True)\n",
    "\n",
    "usa_data = year_team_gender_count[year_team_gender_count['Team'] == \"USA\"]\n",
    "usa_data.set_index('Year', inplace = True)"
   ]
  },
  {
   "cell_type": "code",
   "execution_count": 31,
   "metadata": {
    "_kg_hide-input": true,
    "_uuid": "9c40ed8e69c0ef78450b523af573f64ba13480f6"
   },
   "outputs": [
    {
     "data": {
      "image/png": "[encoded data removed]",
      "text/plain": [
       "<Figure size 1440x864 with 4 Axes>"
      ]
     },
     "metadata": {
      "needs_background": "light"
     },
     "output_type": "display_data"
    }
   ],
   "source": [
    "# Plot the values of male, female and total athletes using bar charts and the line charts.\n",
    "fig, ((ax1, ax2), (ax3, ax4)) = subplots(nrows = 2, ncols = 2, figsize = (20, 12), sharey = True)\n",
    "fig.subplots_adjust(hspace = 0.3)\n",
    "\n",
    "# Plot team Australia's contingent size\n",
    "ax1.bar(chi_data.index.values, chi_data['Male_Athletes'], width = -1, align = 'edge', label = 'Male Athletes')\n",
    "ax1.bar(chi_data.index.values, chi_data['Female_Athletes'], width = 1, align = 'edge', label = 'Female Athletes')\n",
    "ax1.plot(chi_data.index.values, chi_data['Total_Athletes'], linestyle = ':', color = 'black', label = 'Total Athletes',\n",
    "        marker = 'o')\n",
    "ax1.set_title('Team China:\\nComposition over the years')\n",
    "ax1.set_ylabel('Number of Athletes')\n",
    "ax1.legend(loc = 'best')\n",
    "\n",
    "# Plot team USA's contingent size\n",
    "ax2.bar(usa_data.index.values, usa_data['Male_Athletes'], width = -1, align = 'edge', label = 'Male Athletes')\n",
    "ax2.bar(usa_data.index.values, usa_data['Female_Athletes'], width = 1, align = 'edge', label = 'Female Athletes')\n",
    "ax2.plot(usa_data.index.values, usa_data['Total_Athletes'], linestyle = ':', color = 'black', label = 'Total Athletes',\n",
    "        marker = 'o')\n",
    "ax2.set_title('Team USA:\\nComposition over the years')\n",
    "ax2.set_ylabel('Number of Athletes')\n",
    "ax2.legend(loc = 'best')\n",
    "\n",
    "# Plot team Germany's contingent size\n",
    "ax3.bar(ger_data.index.values, ger_data['Male_Athletes'], width = -1, align = 'edge', label = 'Male Athletes')\n",
    "ax3.bar(ger_data.index.values, ger_data['Female_Athletes'], width = 1, align = 'edge', label = 'Female Athletes')\n",
    "ax3.plot(ger_data.index.values, ger_data['Total_Athletes'], linestyle = ':', color = 'black', label = 'Total Athletes', \n",
    "         marker = 'o')\n",
    "ax3.set_title('Team Germany:\\nComposition over the years')\n",
    "ax3.set_ylabel('Number of Athletes')\n",
    "ax3.legend(loc = 'best')\n",
    "\n",
    "# Plot team Russia's contingent size\n",
    "ax4.bar(rus_data.index.values, rus_data['Male_Athletes'], width = -1, align = 'edge', label = 'Male Athletes')\n",
    "ax4.bar(rus_data.index.values, rus_data['Female_Athletes'], width = 1, align = 'edge', label = 'Female Athletes')\n",
    "ax4.plot(rus_data.index.values, rus_data['Total_Athletes'], linestyle = ':', color = 'black', label = 'Total Athletes',\n",
    "        marker = 'o')\n",
    "ax4.set_title('Team Russia:\\nComposition over the years')\n",
    "ax4.set_ylabel('Number of Athletes')\n",
    "ax4.legend(loc = 'best')\n",
    "\n",
    "show()"
   ]
  },
  {
   "cell_type": "markdown",
   "metadata": {
    "_uuid": "ac3db41efa1e72d2d6c30c761a7e9dd9bf7790d0",
    "collapsed": true
   },
   "source": [
    "### Does the size of the contingent relate with the number of medals?\n",
    "To get to this, I plot the number of medals won by a team across the years with the contingent size sent to the Olympics in those years."
   ]
  },
  {
   "cell_type": "code",
   "execution_count": 32,
   "metadata": {
    "_kg_hide-input": true,
    "_uuid": "4a8b31ce3fb1dd4c358d2e252e978b3166b2292a"
   },
   "outputs": [
    {
     "data": {
      "image/png": "[encoded data removed]",
      "text/plain": [
       "<Figure size 1440x864 with 4 Axes>"
      ]
     },
     "metadata": {
      "needs_background": "light"
     },
     "output_type": "display_data"
    }
   ],
   "source": [
    "# Get year wise team wise athletes.\n",
    "year_team_athelete = olympics_complete_subset.loc[row_mask_3, ['Year','Team', 'Name']].drop_duplicates()\n",
    "\n",
    "# sum these up to get total contingent size.\n",
    "contingent_size = pd.pivot_table(year_team_athelete,\n",
    "                                 index = 'Year',\n",
    "                                 columns = 'Team',\n",
    "                                 values = 'Name',\n",
    "                                 aggfunc = 'count')\n",
    "\n",
    "fig, ((ax1, ax2), (ax3, ax4)) = subplots(nrows = 2,\n",
    "                                         ncols = 2,\n",
    "                                        figsize = (20,12))\n",
    "\n",
    "fig.subplots_adjust(hspace = 0.3)\n",
    "\n",
    "# Plot australia's medal tally and contingent size\n",
    "contingent_size['China'].plot(ax = ax1, linestyle = '-', marker = 'o', linewidth = 2, color = 'red', \n",
    "                                  label = 'Contingent Size')\n",
    "year_team_medals['China'].plot(ax = ax1, linestyle = '-', marker = 'o', linewidth = 2, color = 'black',\n",
    "                                  label = 'Medal Tally')\n",
    "ax1.plot(2008, contingent_size.loc[2008, 'China'], marker = '^', color = 'red', ms = 14)\n",
    "ax1.plot(2008, year_team_medals.loc[2008, 'China'], marker = '^', color = 'black', ms = 14)\n",
    "ax1.set_xlabel('Olympic Year')\n",
    "ax1.set_ylabel('Number of Athletes/Medal Tally')\n",
    "ax1.set_title('Team China\\nContingent Size vs Medal Tally')\n",
    "ax1.legend(loc = 'best')\n",
    "\n",
    "# Plot USA's medal tally and contingent size\n",
    "contingent_size['USA'].plot(ax = ax2, linestyle = '-', marker = 'o', linewidth = 2, color = 'blue',\n",
    "                           label = 'Contingent Size')\n",
    "year_team_medals['USA'].plot(ax = ax2, linestyle = '-', marker = 'o', linewidth = 2, color = 'black',\n",
    "                            label = 'Medal Tally')\n",
    "ax2.plot(1984, contingent_size.loc[1984, 'USA'], marker = '^', color = 'blue', ms = 14)\n",
    "ax2.plot(1984, year_team_medals.loc[1984, 'USA'], marker = '^', color = 'black', ms = 14)\n",
    "ax2.set_xlabel('Olympic Year')\n",
    "ax2.set_ylabel('Number of Athletes/Medal Tally')\n",
    "ax2.set_title('Team USA\\nContingent Size vs Medal Tally')\n",
    "ax2.legend(loc = 'best')\n",
    "\n",
    "# Plot Germany's medal tally and contingent size\n",
    "contingent_size['Germany'].plot(ax = ax3, linestyle = '-', marker = 'o', linewidth = 2, color = 'green',\n",
    "                               label = 'Contingent Size')\n",
    "year_team_medals['Germany'].plot(ax = ax3, linestyle = '-', marker = 'o', linewidth = 2, color = 'black',\n",
    "                                label = 'Medal Tally')\n",
    "ax3.plot(1972, year_team_medals.loc[1972, 'Germany'], marker = '^', color = 'black', ms = 14)\n",
    "ax3.plot(1972, contingent_size.loc[1972, 'Germany'], marker = '^', color = 'green', ms = 14)\n",
    "ax3.set_xlabel('Olympic Year')\n",
    "ax3.set_ylabel('Number of Athletes/Medal Tally')\n",
    "ax3.set_title('Team Germany\\nContingent Size vs Medal Tally')\n",
    "ax3.legend(loc = 'best')\n",
    "\n",
    "# Plot Russia's medal tally and contingent size\n",
    "contingent_size['Russia'].plot(ax = ax4, linestyle = '-', marker = 'o', linewidth = 2, color = 'orange',\n",
    "                              label = 'Contingent Size')\n",
    "year_team_medals['Russia'].plot(ax = ax4, linestyle = '-', marker = 'o', linewidth = 2, color = 'black',\n",
    "                               label = 'Medal Tally')\n",
    "ax4.plot(1980, contingent_size.loc[1980, 'Russia'], marker = '^', color = 'orange', ms = 14)\n",
    "ax4.plot(1980, year_team_medals.loc[1980, 'Russia'], marker = '^', color = 'black', ms = 14)\n",
    "ax4.set_xlabel('Olympic Year')\n",
    "ax4.set_ylabel('Number of Athletes/Medal Tally')\n",
    "ax4.set_title('Team Russia\\nContingent Size vs Medal Tally')\n",
    "ax4.legend(loc = 'best')\n",
    "\n",
    "show()"
   ]
  },
  {
   "cell_type": "markdown",
   "metadata": {
    "_uuid": "04cd3a70b8aa9e94c017fd43f54e5838c967ab22"
   },
   "source": [
    "It is interesting to see that for each of these countries, a point of peak in the contingent size translates directly to a peak in the medal tally! These have been marked as large triangles on the plots."
   ]
  },
  {
   "cell_type": "markdown",
   "metadata": {
    "_uuid": "803dc6876ef5eec27e2d019b2818eea34f478dea"
   },
   "source": [
    "Let's now calculate the correlation coefficient between the contingent size and medal tally. We will do this for all teams and not just the top 4 to get more data and therefore, a better sense of the correlation"
   ]
  },
  {
   "cell_type": "code",
   "execution_count": 33,
   "metadata": {
    "_uuid": "f728065d6ac26af95bf7cbaa90828c780a853ae5"
   },
   "outputs": [
    {
     "data": {
      "text/html": [
       "<div>\n",
       "<style scoped>\n",
       "    .dataframe tbody tr th:only-of-type {\n",
       "        vertical-align: middle;\n",
       "    }\n",
       "\n",
       "    .dataframe tbody tr th {\n",
       "        vertical-align: top;\n",
       "    }\n",
       "\n",
       "    .dataframe thead th {\n",
       "        text-align: right;\n",
       "    }\n",
       "</style>\n",
       "<table border=\"1\" class=\"dataframe\">\n",
       "  <thead>\n",
       "    <tr style=\"text-align: right;\">\n",
       "      <th></th>\n",
       "      <th>Contingent</th>\n",
       "      <th>Medal_Count</th>\n",
       "    </tr>\n",
       "  </thead>\n",
       "  <tbody>\n",
       "    <tr>\n",
       "      <th>Contingent</th>\n",
       "      <td>1.000000</td>\n",
       "      <td>0.703625</td>\n",
       "    </tr>\n",
       "    <tr>\n",
       "      <th>Medal_Count</th>\n",
       "      <td>0.703625</td>\n",
       "      <td>1.000000</td>\n",
       "    </tr>\n",
       "  </tbody>\n",
       "</table>\n",
       "</div>"
      ],
      "text/plain": [
       "             Contingent  Medal_Count\n",
       "Contingent     1.000000     0.703625\n",
       "Medal_Count    0.703625     1.000000"
      ]
     },
     "execution_count": 33,
     "metadata": {},
     "output_type": "execute_result"
    }
   ],
   "source": [
    "# Lets merge contingent size and medals won!\n",
    "year_team_medals_unstack = year_team_medals.unstack().reset_index()\n",
    "year_team_medals_unstack.columns = ['Team','Year', 'Medal_Count']\n",
    "\n",
    "contingent_size_unstack = contingent_size.unstack().reset_index()\n",
    "\n",
    "contingent_size_unstack.columns = ['Team','Year', 'Contingent']\n",
    "\n",
    "contingent_medals = contingent_size_unstack.merge(year_team_medals_unstack,\n",
    "                                                 left_on = ['Team', 'Year'],\n",
    "                                                 right_on = ['Team', 'Year'])\n",
    "\n",
    "contingent_medals[['Contingent', 'Medal_Count']].corr()"
   ]
  },
  {
   "cell_type": "markdown",
   "metadata": {
    "_uuid": "19183a1dcacbac952175c2f9459fdadf14fc68d5",
    "collapsed": true
   },
   "source": [
    "The correlation matrix above confirms my conclusions from the plots! A large positive correlation (0.703) exists between contingent size and medal tally.\n",
    "\n",
    "**Interestingly, as we will see in the analysis below, the edition with peak contingents of all these nations is also the edition when the olympics was held in their home country**"
   ]
  },
  {
   "cell_type": "markdown",
   "metadata": {
    "_uuid": "6a3440e00adb8dc7ebfe901ec2c8b0c6ca6ecbe7"
   },
   "source": [
    "## Are there some commonalities between the countries?\n",
    "Are there common sports they are all good at? The output shows the number of times a sport appears in the top 5 best sports of each country. The sport that has a number for multiple countries becomes a commonality"
   ]
  },
  {
   "cell_type": "code",
   "execution_count": 34,
   "metadata": {
    "_kg_hide-input": true,
    "_uuid": "ceba2d37e503d78bcbdad1dc6f9a3349ac2ff100"
   },
   "outputs": [
    {
     "data": {
      "text/html": [
       "<div>\n",
       "<style scoped>\n",
       "    .dataframe tbody tr th:only-of-type {\n",
       "        vertical-align: middle;\n",
       "    }\n",
       "\n",
       "    .dataframe tbody tr th {\n",
       "        vertical-align: top;\n",
       "    }\n",
       "\n",
       "    .dataframe thead th {\n",
       "        text-align: right;\n",
       "    }\n",
       "</style>\n",
       "<table border=\"1\" class=\"dataframe\">\n",
       "  <thead>\n",
       "    <tr style=\"text-align: right;\">\n",
       "      <th>Team</th>\n",
       "      <th>China</th>\n",
       "      <th>Germany</th>\n",
       "      <th>Russia</th>\n",
       "      <th>USA</th>\n",
       "      <th>All</th>\n",
       "    </tr>\n",
       "    <tr>\n",
       "      <th>Sport</th>\n",
       "      <th></th>\n",
       "      <th></th>\n",
       "      <th></th>\n",
       "      <th></th>\n",
       "      <th></th>\n",
       "    </tr>\n",
       "  </thead>\n",
       "  <tbody>\n",
       "    <tr>\n",
       "      <th>Athletics</th>\n",
       "      <td>0</td>\n",
       "      <td>1</td>\n",
       "      <td>0</td>\n",
       "      <td>2</td>\n",
       "      <td>3</td>\n",
       "    </tr>\n",
       "    <tr>\n",
       "      <th>Diving</th>\n",
       "      <td>2</td>\n",
       "      <td>0</td>\n",
       "      <td>0</td>\n",
       "      <td>0</td>\n",
       "      <td>2</td>\n",
       "    </tr>\n",
       "    <tr>\n",
       "      <th>Rowing</th>\n",
       "      <td>0</td>\n",
       "      <td>2</td>\n",
       "      <td>0</td>\n",
       "      <td>0</td>\n",
       "      <td>2</td>\n",
       "    </tr>\n",
       "    <tr>\n",
       "      <th>Swimming</th>\n",
       "      <td>0</td>\n",
       "      <td>0</td>\n",
       "      <td>0</td>\n",
       "      <td>2</td>\n",
       "      <td>2</td>\n",
       "    </tr>\n",
       "    <tr>\n",
       "      <th>Wrestling</th>\n",
       "      <td>0</td>\n",
       "      <td>0</td>\n",
       "      <td>2</td>\n",
       "      <td>0</td>\n",
       "      <td>2</td>\n",
       "    </tr>\n",
       "    <tr>\n",
       "      <th>Badminton</th>\n",
       "      <td>1</td>\n",
       "      <td>0</td>\n",
       "      <td>0</td>\n",
       "      <td>0</td>\n",
       "      <td>1</td>\n",
       "    </tr>\n",
       "    <tr>\n",
       "      <th>Basketball</th>\n",
       "      <td>0</td>\n",
       "      <td>0</td>\n",
       "      <td>0</td>\n",
       "      <td>1</td>\n",
       "      <td>1</td>\n",
       "    </tr>\n",
       "    <tr>\n",
       "      <th>Canoeing</th>\n",
       "      <td>0</td>\n",
       "      <td>1</td>\n",
       "      <td>0</td>\n",
       "      <td>0</td>\n",
       "      <td>1</td>\n",
       "    </tr>\n",
       "    <tr>\n",
       "      <th>Equestrianism</th>\n",
       "      <td>0</td>\n",
       "      <td>1</td>\n",
       "      <td>0</td>\n",
       "      <td>0</td>\n",
       "      <td>1</td>\n",
       "    </tr>\n",
       "    <tr>\n",
       "      <th>Fencing</th>\n",
       "      <td>0</td>\n",
       "      <td>0</td>\n",
       "      <td>1</td>\n",
       "      <td>0</td>\n",
       "      <td>1</td>\n",
       "    </tr>\n",
       "    <tr>\n",
       "      <th>Gymnastics</th>\n",
       "      <td>0</td>\n",
       "      <td>0</td>\n",
       "      <td>1</td>\n",
       "      <td>0</td>\n",
       "      <td>1</td>\n",
       "    </tr>\n",
       "    <tr>\n",
       "      <th>Rhythmic Gymnastics</th>\n",
       "      <td>0</td>\n",
       "      <td>0</td>\n",
       "      <td>1</td>\n",
       "      <td>0</td>\n",
       "      <td>1</td>\n",
       "    </tr>\n",
       "    <tr>\n",
       "      <th>Table Tennis</th>\n",
       "      <td>1</td>\n",
       "      <td>0</td>\n",
       "      <td>0</td>\n",
       "      <td>0</td>\n",
       "      <td>1</td>\n",
       "    </tr>\n",
       "    <tr>\n",
       "      <th>Weightlifting</th>\n",
       "      <td>1</td>\n",
       "      <td>0</td>\n",
       "      <td>0</td>\n",
       "      <td>0</td>\n",
       "      <td>1</td>\n",
       "    </tr>\n",
       "  </tbody>\n",
       "</table>\n",
       "</div>"
      ],
      "text/plain": [
       "Team                 China  Germany  Russia  USA  All\n",
       "Sport                                                \n",
       "Athletics                0        1       0    2    3\n",
       "Diving                   2        0       0    0    2\n",
       "Rowing                   0        2       0    0    2\n",
       "Swimming                 0        0       0    2    2\n",
       "Wrestling                0        0       2    0    2\n",
       "Badminton                1        0       0    0    1\n",
       "Basketball               0        0       0    1    1\n",
       "Canoeing                 0        1       0    0    1\n",
       "Equestrianism            0        1       0    0    1\n",
       "Fencing                  0        0       1    0    1\n",
       "Gymnastics               0        0       1    0    1\n",
       "Rhythmic Gymnastics      0        0       1    0    1\n",
       "Table Tennis             1        0       0    0    1\n",
       "Weightlifting            1        0       0    0    1"
      ]
     },
     "execution_count": 34,
     "metadata": {},
     "output_type": "execute_result"
    }
   ],
   "source": [
    "# merge best team sports with olympics data to get sport for each event.\n",
    "team_commonalities = best_team_sports.merge(olympics_complete_subset.loc[:,['Sport', 'Event']].drop_duplicates(),\n",
    "                                           left_on = 'Event',\n",
    "                                           right_on = 'Event')\n",
    "\n",
    "team_commonalities = team_commonalities.sort_values(['Team', 'Gold_Medal_Count'], ascending = [True, False])\n",
    "team_commonalities = team_commonalities.groupby('Team').head(5).reset_index()\n",
    "\n",
    "# make a pivot table of the commonalities.\n",
    "pd.pivot_table(team_commonalities,\n",
    "              index = 'Sport',\n",
    "              columns = 'Team',\n",
    "              values = 'Event',\n",
    "              aggfunc = 'count',\n",
    "              fill_value = 0,\n",
    "              margins = True).sort_values('All', ascending = False)[1:]"
   ]
  },
  {
   "cell_type": "markdown",
   "metadata": {
    "_uuid": "cc785a4c34851b38d27c1880e85876aac8f4cafc"
   },
   "source": [
    "#### Interesting Insight 3:\n",
    "There is very little in common between these countries. It is perhaps why these are all at the top. Each competes and wins in its own area of expertise."
   ]
  },
  {
   "cell_type": "markdown",
   "metadata": {
    "_uuid": "8654eecb44579b0018142cf62479811dc6c081da"
   },
   "source": [
    "## Do teams enjoy a home advantage?\n",
    "A home advantage is a phenomenon where a team does better when the olympics are being held in its own country than it fares in other countries. To keep the comparison fair, we would compare the performance of these teams in the year when the olympics was held at their home vs one edition earlier and one edition later."
   ]
  },
  {
   "cell_type": "markdown",
   "metadata": {
    "_uuid": "d512331add8e67b6765b394fce82bc6b6286e6c9"
   },
   "source": [
    "#### Where was the olympics held in each of the years under consideration?"
   ]
  },
  {
   "cell_type": "code",
   "execution_count": 35,
   "metadata": {
    "_uuid": "22c3fa988724fca5b1f70c4282494e8f31a7ca74"
   },
   "outputs": [
    {
     "data": {
      "text/html": [
       "<div>\n",
       "<style scoped>\n",
       "    .dataframe tbody tr th:only-of-type {\n",
       "        vertical-align: middle;\n",
       "    }\n",
       "\n",
       "    .dataframe tbody tr th {\n",
       "        vertical-align: top;\n",
       "    }\n",
       "\n",
       "    .dataframe thead th {\n",
       "        text-align: right;\n",
       "    }\n",
       "</style>\n",
       "<table border=\"1\" class=\"dataframe\">\n",
       "  <thead>\n",
       "    <tr style=\"text-align: right;\">\n",
       "      <th></th>\n",
       "      <th>Year</th>\n",
       "      <th>City</th>\n",
       "    </tr>\n",
       "  </thead>\n",
       "  <tbody>\n",
       "    <tr>\n",
       "      <th>74</th>\n",
       "      <td>1964</td>\n",
       "      <td>Tokyo</td>\n",
       "    </tr>\n",
       "    <tr>\n",
       "      <th>11</th>\n",
       "      <td>1968</td>\n",
       "      <td>Mexico City</td>\n",
       "    </tr>\n",
       "    <tr>\n",
       "      <th>12</th>\n",
       "      <td>1972</td>\n",
       "      <td>Munich</td>\n",
       "    </tr>\n",
       "    <tr>\n",
       "      <th>37</th>\n",
       "      <td>1976</td>\n",
       "      <td>Montreal</td>\n",
       "    </tr>\n",
       "    <tr>\n",
       "      <th>70</th>\n",
       "      <td>1980</td>\n",
       "      <td>Moskva</td>\n",
       "    </tr>\n",
       "    <tr>\n",
       "      <th>10</th>\n",
       "      <td>1984</td>\n",
       "      <td>Los Angeles</td>\n",
       "    </tr>\n",
       "    <tr>\n",
       "      <th>13</th>\n",
       "      <td>1988</td>\n",
       "      <td>Seoul</td>\n",
       "    </tr>\n",
       "    <tr>\n",
       "      <th>0</th>\n",
       "      <td>1992</td>\n",
       "      <td>Barcelona</td>\n",
       "    </tr>\n",
       "    <tr>\n",
       "      <th>3</th>\n",
       "      <td>1996</td>\n",
       "      <td>Atlanta</td>\n",
       "    </tr>\n",
       "    <tr>\n",
       "      <th>2</th>\n",
       "      <td>2000</td>\n",
       "      <td>Sydney</td>\n",
       "    </tr>\n",
       "    <tr>\n",
       "      <th>9</th>\n",
       "      <td>2004</td>\n",
       "      <td>Athina</td>\n",
       "    </tr>\n",
       "    <tr>\n",
       "      <th>6</th>\n",
       "      <td>2008</td>\n",
       "      <td>Beijing</td>\n",
       "    </tr>\n",
       "    <tr>\n",
       "      <th>1</th>\n",
       "      <td>2012</td>\n",
       "      <td>London</td>\n",
       "    </tr>\n",
       "    <tr>\n",
       "      <th>7</th>\n",
       "      <td>2016</td>\n",
       "      <td>Rio de Janeiro</td>\n",
       "    </tr>\n",
       "  </tbody>\n",
       "</table>\n",
       "</div>"
      ],
      "text/plain": [
       "    Year            City\n",
       "74  1964           Tokyo\n",
       "11  1968     Mexico City\n",
       "12  1972          Munich\n",
       "37  1976        Montreal\n",
       "70  1980          Moskva\n",
       "10  1984     Los Angeles\n",
       "13  1988           Seoul\n",
       "0   1992       Barcelona\n",
       "3   1996         Atlanta\n",
       "2   2000          Sydney\n",
       "9   2004          Athina\n",
       "6   2008         Beijing\n",
       "1   2012          London\n",
       "7   2016  Rio de Janeiro"
      ]
     },
     "execution_count": 35,
     "metadata": {},
     "output_type": "execute_result"
    }
   ],
   "source": [
    "olympics_complete_subset[['Year', 'City']].drop_duplicates().sort_values('Year')"
   ]
  },
  {
   "cell_type": "markdown",
   "metadata": {
    "_uuid": "320030523783bdbed32784af88ec26515f9a5dac",
    "collapsed": true
   },
   "source": [
    "We see from the data that some cities have been captured incorrectly- <br>\n",
    "1. Moskva should be 'Moscow'\n",
    "2. Athina should be 'Athens'\n",
    "\n",
    "Let's first correct these cities before we proceed with any analysis"
   ]
  },
  {
   "cell_type": "code",
   "execution_count": 36,
   "metadata": {
    "_uuid": "66001a1735dad05bb95574dce2673e8b597e769a"
   },
   "outputs": [],
   "source": [
    "# Correct city names in the dataset\n",
    "olympics_complete_subset['City'].replace(['Athina', 'Moskva'], ['Athens', 'Moscow'], inplace = True)"
   ]
  },
  {
   "cell_type": "markdown",
   "metadata": {
    "_uuid": "e1a7152828822d3357f79be55bd8a7846394da7b",
    "collapsed": true
   },
   "source": [
    "Now that the names have been corrected, let's map each of these cities to their countries."
   ]
  },
  {
   "cell_type": "code",
   "execution_count": 37,
   "metadata": {
    "_uuid": "9136575b209ae8ef267f27271ab328b04c6eb070"
   },
   "outputs": [
    {
     "data": {
      "text/html": [
       "<div>\n",
       "<style scoped>\n",
       "    .dataframe tbody tr th:only-of-type {\n",
       "        vertical-align: middle;\n",
       "    }\n",
       "\n",
       "    .dataframe tbody tr th {\n",
       "        vertical-align: top;\n",
       "    }\n",
       "\n",
       "    .dataframe thead th {\n",
       "        text-align: right;\n",
       "    }\n",
       "</style>\n",
       "<table border=\"1\" class=\"dataframe\">\n",
       "  <thead>\n",
       "    <tr style=\"text-align: right;\">\n",
       "      <th></th>\n",
       "      <th>Year</th>\n",
       "      <th>Country_Host</th>\n",
       "    </tr>\n",
       "  </thead>\n",
       "  <tbody>\n",
       "    <tr>\n",
       "      <th>74</th>\n",
       "      <td>1964</td>\n",
       "      <td>Japan</td>\n",
       "    </tr>\n",
       "    <tr>\n",
       "      <th>11</th>\n",
       "      <td>1968</td>\n",
       "      <td>Mexico</td>\n",
       "    </tr>\n",
       "    <tr>\n",
       "      <th>12</th>\n",
       "      <td>1972</td>\n",
       "      <td>Germany</td>\n",
       "    </tr>\n",
       "    <tr>\n",
       "      <th>37</th>\n",
       "      <td>1976</td>\n",
       "      <td>Canada</td>\n",
       "    </tr>\n",
       "    <tr>\n",
       "      <th>70</th>\n",
       "      <td>1980</td>\n",
       "      <td>Russia</td>\n",
       "    </tr>\n",
       "    <tr>\n",
       "      <th>10</th>\n",
       "      <td>1984</td>\n",
       "      <td>USA</td>\n",
       "    </tr>\n",
       "    <tr>\n",
       "      <th>13</th>\n",
       "      <td>1988</td>\n",
       "      <td>South Korea</td>\n",
       "    </tr>\n",
       "    <tr>\n",
       "      <th>0</th>\n",
       "      <td>1992</td>\n",
       "      <td>Spain</td>\n",
       "    </tr>\n",
       "    <tr>\n",
       "      <th>3</th>\n",
       "      <td>1996</td>\n",
       "      <td>USA</td>\n",
       "    </tr>\n",
       "    <tr>\n",
       "      <th>2</th>\n",
       "      <td>2000</td>\n",
       "      <td>Australia</td>\n",
       "    </tr>\n",
       "    <tr>\n",
       "      <th>9</th>\n",
       "      <td>2004</td>\n",
       "      <td>Greece</td>\n",
       "    </tr>\n",
       "    <tr>\n",
       "      <th>6</th>\n",
       "      <td>2008</td>\n",
       "      <td>China</td>\n",
       "    </tr>\n",
       "    <tr>\n",
       "      <th>1</th>\n",
       "      <td>2012</td>\n",
       "      <td>UK</td>\n",
       "    </tr>\n",
       "    <tr>\n",
       "      <th>7</th>\n",
       "      <td>2016</td>\n",
       "      <td>Brazil</td>\n",
       "    </tr>\n",
       "  </tbody>\n",
       "</table>\n",
       "</div>"
      ],
      "text/plain": [
       "    Year Country_Host\n",
       "74  1964        Japan\n",
       "11  1968       Mexico\n",
       "12  1972      Germany\n",
       "37  1976       Canada\n",
       "70  1980       Russia\n",
       "10  1984          USA\n",
       "13  1988  South Korea\n",
       "0   1992        Spain\n",
       "3   1996          USA\n",
       "2   2000    Australia\n",
       "9   2004       Greece\n",
       "6   2008        China\n",
       "1   2012           UK\n",
       "7   2016       Brazil"
      ]
     },
     "execution_count": 37,
     "metadata": {},
     "output_type": "execute_result"
    }
   ],
   "source": [
    "# city to country mapping dictionary\n",
    "city_to_country = {'Tokyo': 'Japan',\n",
    "                  'Mexico City': 'Mexico',\n",
    "                  'Munich': 'Germany',\n",
    "                  'Montreal': 'Canada',\n",
    "                  'Moscow': 'Russia',\n",
    "                  'Los Angeles': 'USA',\n",
    "                  'Seoul': 'South Korea',\n",
    "                  'Barcelona': 'Spain',\n",
    "                  'Atlanta': 'USA',\n",
    "                  'Sydney': 'Australia',\n",
    "                  'Athens': 'Greece',\n",
    "                  'Beijing': 'China',\n",
    "                  'London': 'UK',\n",
    "                  'Rio de Janeiro': 'Brazil'}\n",
    "\n",
    "# Map cities to countries\n",
    "olympics_complete_subset['Country_Host'] = olympics_complete_subset['City'].map(city_to_country)\n",
    "\n",
    "#print the \n",
    "olympics_complete_subset.loc[:, ['Year', 'Country_Host']].drop_duplicates().sort_values('Year')"
   ]
  },
  {
   "cell_type": "markdown",
   "metadata": {
    "_uuid": "6f3964d6fb94fb1800170e04018d969110818778",
    "collapsed": true
   },
   "source": [
    "So somehow it has so happened that each of our top countries has atleast one instance of hosting in the considered time period\n",
    "\n",
    "One problem though, is that Russia hosted in a year when USA did _NOT_ participate. Since Russia and USA were the top contenders for medals in the period, it should be that Russia won a lot more than they would have in case USA participated.\n",
    "\n",
    "The approach for home advantage calculation would be to list host country against each year, playing nation and their total medal tally. Then we would compare performance one edition before and one edition after the olympics was held at that playing country's home."
   ]
  },
  {
   "cell_type": "code",
   "execution_count": 38,
   "metadata": {
    "_kg_hide-input": true,
    "_uuid": "0b66f475c2d5695c9e0a32ef57091f7673cb8226"
   },
   "outputs": [
    {
     "data": {
      "text/html": [
       "<div>\n",
       "<style scoped>\n",
       "    .dataframe tbody tr th:only-of-type {\n",
       "        vertical-align: middle;\n",
       "    }\n",
       "\n",
       "    .dataframe tbody tr th {\n",
       "        vertical-align: top;\n",
       "    }\n",
       "\n",
       "    .dataframe thead th {\n",
       "        text-align: right;\n",
       "    }\n",
       "</style>\n",
       "<table border=\"1\" class=\"dataframe\">\n",
       "  <thead>\n",
       "    <tr style=\"text-align: right;\">\n",
       "      <th></th>\n",
       "      <th>Year</th>\n",
       "      <th>Country_Host</th>\n",
       "      <th>Team</th>\n",
       "      <th>Medal_Won_Prev_Year</th>\n",
       "      <th>Medal_Won_Host_Year</th>\n",
       "      <th>Medal_Won_Next_Year</th>\n",
       "    </tr>\n",
       "  </thead>\n",
       "  <tbody>\n",
       "    <tr>\n",
       "      <th>0</th>\n",
       "      <td>1964</td>\n",
       "      <td>Japan</td>\n",
       "      <td>Japan</td>\n",
       "      <td>NaN</td>\n",
       "      <td>29.0</td>\n",
       "      <td>25.0</td>\n",
       "    </tr>\n",
       "    <tr>\n",
       "      <th>1</th>\n",
       "      <td>1968</td>\n",
       "      <td>Mexico</td>\n",
       "      <td>Mexico</td>\n",
       "      <td>1.0</td>\n",
       "      <td>9.0</td>\n",
       "      <td>1.0</td>\n",
       "    </tr>\n",
       "    <tr>\n",
       "      <th>2</th>\n",
       "      <td>1972</td>\n",
       "      <td>Germany</td>\n",
       "      <td>Germany</td>\n",
       "      <td>51.0</td>\n",
       "      <td>106.0</td>\n",
       "      <td>129.0</td>\n",
       "    </tr>\n",
       "    <tr>\n",
       "      <th>3</th>\n",
       "      <td>1976</td>\n",
       "      <td>Canada</td>\n",
       "      <td>Canada</td>\n",
       "      <td>5.0</td>\n",
       "      <td>11.0</td>\n",
       "      <td>NaN</td>\n",
       "    </tr>\n",
       "    <tr>\n",
       "      <th>4</th>\n",
       "      <td>1980</td>\n",
       "      <td>Russia</td>\n",
       "      <td>Russia</td>\n",
       "      <td>125.0</td>\n",
       "      <td>195.0</td>\n",
       "      <td>NaN</td>\n",
       "    </tr>\n",
       "    <tr>\n",
       "      <th>5</th>\n",
       "      <td>1984</td>\n",
       "      <td>USA</td>\n",
       "      <td>USA</td>\n",
       "      <td>NaN</td>\n",
       "      <td>173.0</td>\n",
       "      <td>94.0</td>\n",
       "    </tr>\n",
       "    <tr>\n",
       "      <th>6</th>\n",
       "      <td>1988</td>\n",
       "      <td>South Korea</td>\n",
       "      <td>South Korea</td>\n",
       "      <td>19.0</td>\n",
       "      <td>33.0</td>\n",
       "      <td>28.0</td>\n",
       "    </tr>\n",
       "    <tr>\n",
       "      <th>7</th>\n",
       "      <td>1992</td>\n",
       "      <td>Spain</td>\n",
       "      <td>Spain</td>\n",
       "      <td>4.0</td>\n",
       "      <td>22.0</td>\n",
       "      <td>17.0</td>\n",
       "    </tr>\n",
       "    <tr>\n",
       "      <th>8</th>\n",
       "      <td>1996</td>\n",
       "      <td>USA</td>\n",
       "      <td>USA</td>\n",
       "      <td>108.0</td>\n",
       "      <td>101.0</td>\n",
       "      <td>91.0</td>\n",
       "    </tr>\n",
       "    <tr>\n",
       "      <th>9</th>\n",
       "      <td>2000</td>\n",
       "      <td>Australia</td>\n",
       "      <td>Australia</td>\n",
       "      <td>41.0</td>\n",
       "      <td>58.0</td>\n",
       "      <td>50.0</td>\n",
       "    </tr>\n",
       "    <tr>\n",
       "      <th>10</th>\n",
       "      <td>2004</td>\n",
       "      <td>Greece</td>\n",
       "      <td>Greece</td>\n",
       "      <td>13.0</td>\n",
       "      <td>16.0</td>\n",
       "      <td>4.0</td>\n",
       "    </tr>\n",
       "    <tr>\n",
       "      <th>11</th>\n",
       "      <td>2008</td>\n",
       "      <td>China</td>\n",
       "      <td>China</td>\n",
       "      <td>64.0</td>\n",
       "      <td>100.0</td>\n",
       "      <td>89.0</td>\n",
       "    </tr>\n",
       "    <tr>\n",
       "      <th>12</th>\n",
       "      <td>2012</td>\n",
       "      <td>UK</td>\n",
       "      <td>UK</td>\n",
       "      <td>48.0</td>\n",
       "      <td>65.0</td>\n",
       "      <td>67.0</td>\n",
       "    </tr>\n",
       "    <tr>\n",
       "      <th>13</th>\n",
       "      <td>2016</td>\n",
       "      <td>Brazil</td>\n",
       "      <td>Brazil</td>\n",
       "      <td>17.0</td>\n",
       "      <td>19.0</td>\n",
       "      <td>NaN</td>\n",
       "    </tr>\n",
       "  </tbody>\n",
       "</table>\n",
       "</div>"
      ],
      "text/plain": [
       "    Year Country_Host         Team  Medal_Won_Prev_Year  Medal_Won_Host_Year  \\\n",
       "0   1964        Japan        Japan                  NaN                 29.0   \n",
       "1   1968       Mexico       Mexico                  1.0                  9.0   \n",
       "2   1972      Germany      Germany                 51.0                106.0   \n",
       "3   1976       Canada       Canada                  5.0                 11.0   \n",
       "4   1980       Russia       Russia                125.0                195.0   \n",
       "5   1984          USA          USA                  NaN                173.0   \n",
       "6   1988  South Korea  South Korea                 19.0                 33.0   \n",
       "7   1992        Spain        Spain                  4.0                 22.0   \n",
       "8   1996          USA          USA                108.0                101.0   \n",
       "9   2000    Australia    Australia                 41.0                 58.0   \n",
       "10  2004       Greece       Greece                 13.0                 16.0   \n",
       "11  2008        China        China                 64.0                100.0   \n",
       "12  2012           UK           UK                 48.0                 65.0   \n",
       "13  2016       Brazil       Brazil                 17.0                 19.0   \n",
       "\n",
       "    Medal_Won_Next_Year  \n",
       "0                  25.0  \n",
       "1                   1.0  \n",
       "2                 129.0  \n",
       "3                   NaN  \n",
       "4                   NaN  \n",
       "5                  94.0  \n",
       "6                  28.0  \n",
       "7                  17.0  \n",
       "8                  91.0  \n",
       "9                  50.0  \n",
       "10                  4.0  \n",
       "11                 89.0  \n",
       "12                 67.0  \n",
       "13                  NaN  "
      ]
     },
     "execution_count": 38,
     "metadata": {},
     "output_type": "execute_result"
    }
   ],
   "source": [
    "# Extract year, host nation and team name from the data\n",
    "year_host_team = olympics_complete_subset[['Year', 'Country_Host', 'Team']].drop_duplicates()\n",
    "\n",
    "# check rows where host country is the same as team\n",
    "row_mask_4 = (year_host_team['Country_Host'] == year_host_team['Team'])\n",
    "\n",
    "# add years in the year_host_team to capture one previous and one later year\n",
    "year_host_team['Prev_Year'] = year_host_team['Year'] - 4\n",
    "year_host_team['Next_Year'] = year_host_team['Year'] + 4\n",
    "\n",
    "# Subset only where host nation and team were the same\n",
    "year_host_team = year_host_team[row_mask_4]\n",
    "\n",
    "# Calculate the medals won in each year where a team played at home. merge year_host_team with medal_tally on year and team\n",
    "year_host_team_medal = year_host_team.merge(medal_tally,\n",
    "                                           left_on = ['Year', 'Team'],\n",
    "                                           right_on = ['Year', 'Team'],\n",
    "                                           how = 'left')\n",
    "\n",
    "year_host_team_medal.rename(columns = {'Medal_Won_Corrected' : 'Medal_Won_Host_Year'}, inplace = True)\n",
    "\n",
    "# Calculate medals won by team in previous year\n",
    "year_host_team_medal = year_host_team_medal.merge(medal_tally,\n",
    "                                                 left_on = ['Prev_Year', 'Team'],\n",
    "                                                 right_on = ['Year', 'Team'],\n",
    "                                                 how = 'left')\n",
    "\n",
    "year_host_team_medal.drop('Year_y', axis = 1, inplace = True)\n",
    "year_host_team_medal.rename(columns = {'Medal_Won_Corrected': 'Medal_Won_Prev_Year',\n",
    "                                      'Year_x':'Year'}, inplace = True)\n",
    "\n",
    "# Calculate the medals won by the team the year after they hosted.\n",
    "year_host_team_medal = year_host_team_medal.merge(medal_tally,\n",
    "                                                 left_on = ['Next_Year', 'Team'],\n",
    "                                                 right_on = ['Year', 'Team'],\n",
    "                                                 how = 'left')\n",
    "\n",
    "year_host_team_medal.drop('Year_y', axis = 1, inplace = True)\n",
    "year_host_team_medal.rename(columns = {'Year_x': 'Year',\n",
    "                                      'Medal_Won_Corrected' : 'Medal_Won_Next_Year'}, inplace = True)\n",
    "\n",
    "# General formatting changes\n",
    "year_host_team_medal.drop(['Prev_Year', 'Next_Year'], axis = 1, inplace = True)\n",
    "year_host_team_medal.sort_values('Year', ascending = True, inplace = True)\n",
    "year_host_team_medal.reset_index(inplace = True, drop = True)\n",
    "\n",
    "# column re-ordering\n",
    "year_host_team_medal = year_host_team_medal.loc[:, ['Year', 'Country_Host', 'Team', 'Medal_Won_Prev_Year', 'Medal_Won_Host_Year', 'Medal_Won_Next_Year']]\n",
    "\n",
    "year_host_team_medal"
   ]
  },
  {
   "cell_type": "markdown",
   "metadata": {
    "_uuid": "7c3008280c55a53e2c2eec4eed0ad46681e982cc"
   },
   "source": [
    "Excluding rows with Russia (1980) and USA (1984) because their biggest contender didn't participate in the olympics that time, we see that in **general team do better whilst playing at home!**"
   ]
  },
  {
   "cell_type": "markdown",
   "metadata": {
    "_uuid": "f55402c3e958c01577813e9589666c828b1f98fb",
    "collapsed": true
   },
   "source": [
    "## Does GDP play a part in medal tallies?\n",
    "GDP is a proxy for a country's resources. A higher GDP means more resources to allocate to sports!"
   ]
  },
  {
   "cell_type": "code",
   "execution_count": 39,
   "metadata": {
    "_kg_hide-input": true,
    "_uuid": "c6c83c8361e7414f9a81aa66319e04175085a0e8"
   },
   "outputs": [
    {
     "data": {
      "text/plain": [
       "Text(7101223999999.844, 145.0, 'Correlation = 0.6229032997622935')"
      ]
     },
     "execution_count": 39,
     "metadata": {},
     "output_type": "execute_result"
    },
    {
     "data": {
      "image/png": "[encoded data removed]",
      "text/plain": [
       "<Figure size 432x288 with 1 Axes>"
      ]
     },
     "metadata": {
      "needs_background": "light"
     },
     "output_type": "display_data"
    }
   ],
   "source": [
    "year_team_gdp = olympics_complete_subset.loc[:, ['Year', 'Team', 'GDP']].drop_duplicates()\n",
    "\n",
    "medal_tally_gdp = medal_tally.merge(year_team_gdp,\n",
    "                                   left_on = ['Year', 'Team'],\n",
    "                                   right_on = ['Year', 'Team'],\n",
    "                                   how = 'left')\n",
    "\n",
    "row_mask_5 = medal_tally_gdp['Medal_Won_Corrected'] > 0\n",
    "row_mask_6 = medal_tally_gdp['Team'].map(lambda x: x in top_countries)\n",
    "\n",
    "correlation = medal_tally_gdp.loc[row_mask_5, ['GDP', 'Medal_Won_Corrected']].corr()['Medal_Won_Corrected'][0]\n",
    "\n",
    "plot(medal_tally_gdp.loc[row_mask_5, 'GDP'], \n",
    "     medal_tally_gdp.loc[row_mask_5, 'Medal_Won_Corrected'] , \n",
    "     linestyle = 'none', \n",
    "     marker = 'o',\n",
    "    alpha = 0.4)\n",
    "xlabel('Country GDP')\n",
    "\n",
    "ylabel('Number of Medals')\n",
    "title('GDP versus medal tally')\n",
    "text(np.nanpercentile(medal_tally_gdp['GDP'], 99.6), \n",
    "     max(medal_tally_gdp['Medal_Won_Corrected']) - 50,\n",
    "     \"Correlation = \" + str(correlation))"
   ]
  },
  {
   "cell_type": "markdown",
   "metadata": {
    "_uuid": "bd69b2dbd8f4dee8feefaed542a6ee7699f84916"
   },
   "source": [
    "The plot shows a 0.622 correlation between GDP and medals won! Thats a significant correlation. **So GDP positively impacts the number of medals won by a team.**"
   ]
  },
  {
   "cell_type": "markdown",
   "metadata": {
    "_uuid": "08c52ddac162fe3054ac897e12af3496bb177c7f"
   },
   "source": [
    "## Who are the most accomplished athletes in each sport?\n",
    "\n",
    "Lets define accomplished athletes as those with a high medal to participation ratio. This means the average number of medals they win with each participation. Participation would be counted as the number of events that they participated in."
   ]
  },
  {
   "cell_type": "code",
   "execution_count": 40,
   "metadata": {
    "_uuid": "d5ba058c8998071166338368a449ccef37fc20f4"
   },
   "outputs": [
    {
     "data": {
      "text/html": [
       "<div>\n",
       "<style scoped>\n",
       "    .dataframe tbody tr th:only-of-type {\n",
       "        vertical-align: middle;\n",
       "    }\n",
       "\n",
       "    .dataframe tbody tr th {\n",
       "        vertical-align: top;\n",
       "    }\n",
       "\n",
       "    .dataframe thead th {\n",
       "        text-align: right;\n",
       "    }\n",
       "</style>\n",
       "<table border=\"1\" class=\"dataframe\">\n",
       "  <thead>\n",
       "    <tr style=\"text-align: right;\">\n",
       "      <th></th>\n",
       "      <th>Team</th>\n",
       "      <th>Name</th>\n",
       "      <th>Sport</th>\n",
       "      <th>Medal_Won</th>\n",
       "    </tr>\n",
       "  </thead>\n",
       "  <tbody>\n",
       "    <tr>\n",
       "      <th>66110</th>\n",
       "      <td>South Korea</td>\n",
       "      <td>Kim Su-Nyeong</td>\n",
       "      <td>Archery</td>\n",
       "      <td>6</td>\n",
       "    </tr>\n",
       "    <tr>\n",
       "      <th>65767</th>\n",
       "      <td>South Korea</td>\n",
       "      <td>Ki Bo-Bae</td>\n",
       "      <td>Archery</td>\n",
       "      <td>4</td>\n",
       "    </tr>\n",
       "    <tr>\n",
       "      <th>66718</th>\n",
       "      <td>South Korea</td>\n",
       "      <td>Park Seong-Hyeon</td>\n",
       "      <td>Archery</td>\n",
       "      <td>4</td>\n",
       "    </tr>\n",
       "    <tr>\n",
       "      <th>16642</th>\n",
       "      <td>China</td>\n",
       "      <td>Zhang Juanjuan</td>\n",
       "      <td>Archery</td>\n",
       "      <td>3</td>\n",
       "    </tr>\n",
       "    <tr>\n",
       "      <th>39055</th>\n",
       "      <td>Italy</td>\n",
       "      <td>Marco Galiazzo</td>\n",
       "      <td>Archery</td>\n",
       "      <td>3</td>\n",
       "    </tr>\n",
       "  </tbody>\n",
       "</table>\n",
       "</div>"
      ],
      "text/plain": [
       "              Team              Name    Sport  Medal_Won\n",
       "66110  South Korea     Kim Su-Nyeong  Archery          6\n",
       "65767  South Korea         Ki Bo-Bae  Archery          4\n",
       "66718  South Korea  Park Seong-Hyeon  Archery          4\n",
       "16642        China    Zhang Juanjuan  Archery          3\n",
       "39055        Italy    Marco Galiazzo  Archery          3"
      ]
     },
     "execution_count": 40,
     "metadata": {},
     "output_type": "execute_result"
    }
   ],
   "source": [
    "# lets create a data frame of athletes with the sport they participated in and the number of medals won.\n",
    "ath_sport_medal = olympics_complete_subset.groupby(['Team','Name', 'Sport'])['Medal_Won'].agg('sum').reset_index()\n",
    "ath_sport_medal.sort_values(['Sport', 'Medal_Won'], ascending = [True, False], inplace = True)\n",
    "\n",
    "# keep only athletes who won medals\n",
    "medal_mask = ath_sport_medal['Medal_Won'] > 0\n",
    "ath_sport_medal = ath_sport_medal[medal_mask]\n",
    "\n",
    "ath_sport_medal.head()"
   ]
  },
  {
   "cell_type": "code",
   "execution_count": 41,
   "metadata": {
    "_uuid": "7a0e22772b5682567e479e2965636073c281c6d5"
   },
   "outputs": [
    {
     "data": {
      "text/html": [
       "<div>\n",
       "<style scoped>\n",
       "    .dataframe tbody tr th:only-of-type {\n",
       "        vertical-align: middle;\n",
       "    }\n",
       "\n",
       "    .dataframe tbody tr th {\n",
       "        vertical-align: top;\n",
       "    }\n",
       "\n",
       "    .dataframe thead th {\n",
       "        text-align: right;\n",
       "    }\n",
       "</style>\n",
       "<table border=\"1\" class=\"dataframe\">\n",
       "  <thead>\n",
       "    <tr style=\"text-align: right;\">\n",
       "      <th></th>\n",
       "      <th>Team</th>\n",
       "      <th>Name</th>\n",
       "      <th>Sport</th>\n",
       "      <th>Medal_Won</th>\n",
       "      <th>Event_Count</th>\n",
       "      <th>Medal_Per_Participation</th>\n",
       "    </tr>\n",
       "  </thead>\n",
       "  <tbody>\n",
       "    <tr>\n",
       "      <th>12179</th>\n",
       "      <td>USA</td>\n",
       "      <td>Natalie Anne Coughlin (-Hall)</td>\n",
       "      <td>Swimming</td>\n",
       "      <td>12</td>\n",
       "      <td>12</td>\n",
       "      <td>1.0</td>\n",
       "    </tr>\n",
       "    <tr>\n",
       "      <th>150</th>\n",
       "      <td>USA</td>\n",
       "      <td>Frederick Carlton \"Carl\" Lewis</td>\n",
       "      <td>Athletics</td>\n",
       "      <td>10</td>\n",
       "      <td>10</td>\n",
       "      <td>1.0</td>\n",
       "    </tr>\n",
       "    <tr>\n",
       "      <th>4925</th>\n",
       "      <td>Germany</td>\n",
       "      <td>Isabelle Regina Werth</td>\n",
       "      <td>Equestrianism</td>\n",
       "      <td>10</td>\n",
       "      <td>10</td>\n",
       "      <td>1.0</td>\n",
       "    </tr>\n",
       "    <tr>\n",
       "      <th>12184</th>\n",
       "      <td>USA</td>\n",
       "      <td>Gary Wayne Hall, Jr.</td>\n",
       "      <td>Swimming</td>\n",
       "      <td>10</td>\n",
       "      <td>10</td>\n",
       "      <td>1.0</td>\n",
       "    </tr>\n",
       "    <tr>\n",
       "      <th>5296</th>\n",
       "      <td>Italy</td>\n",
       "      <td>Maria Valentina Vezzali</td>\n",
       "      <td>Fencing</td>\n",
       "      <td>9</td>\n",
       "      <td>9</td>\n",
       "      <td>1.0</td>\n",
       "    </tr>\n",
       "    <tr>\n",
       "      <th>12191</th>\n",
       "      <td>Germany</td>\n",
       "      <td>Kornelia Ender (-Matthes, -Grummt)</td>\n",
       "      <td>Swimming</td>\n",
       "      <td>8</td>\n",
       "      <td>8</td>\n",
       "      <td>1.0</td>\n",
       "    </tr>\n",
       "    <tr>\n",
       "      <th>12195</th>\n",
       "      <td>USA</td>\n",
       "      <td>Donald Arthur \"Don\" Schollander</td>\n",
       "      <td>Swimming</td>\n",
       "      <td>8</td>\n",
       "      <td>8</td>\n",
       "      <td>1.0</td>\n",
       "    </tr>\n",
       "    <tr>\n",
       "      <th>12197</th>\n",
       "      <td>USA</td>\n",
       "      <td>Nathan Ghar-Jun Adrian</td>\n",
       "      <td>Swimming</td>\n",
       "      <td>8</td>\n",
       "      <td>8</td>\n",
       "      <td>1.0</td>\n",
       "    </tr>\n",
       "    <tr>\n",
       "      <th>4191</th>\n",
       "      <td>UK</td>\n",
       "      <td>Jason Francis Kenny</td>\n",
       "      <td>Cycling</td>\n",
       "      <td>7</td>\n",
       "      <td>7</td>\n",
       "      <td>1.0</td>\n",
       "    </tr>\n",
       "    <tr>\n",
       "      <th>4745</th>\n",
       "      <td>China</td>\n",
       "      <td>Wu Minxia</td>\n",
       "      <td>Diving</td>\n",
       "      <td>7</td>\n",
       "      <td>7</td>\n",
       "      <td>1.0</td>\n",
       "    </tr>\n",
       "  </tbody>\n",
       "</table>\n",
       "</div>"
      ],
      "text/plain": [
       "          Team                                Name          Sport  Medal_Won  \\\n",
       "12179      USA       Natalie Anne Coughlin (-Hall)       Swimming         12   \n",
       "150        USA      Frederick Carlton \"Carl\" Lewis      Athletics         10   \n",
       "4925   Germany               Isabelle Regina Werth  Equestrianism         10   \n",
       "12184      USA                Gary Wayne Hall, Jr.       Swimming         10   \n",
       "5296     Italy             Maria Valentina Vezzali        Fencing          9   \n",
       "12191  Germany  Kornelia Ender (-Matthes, -Grummt)       Swimming          8   \n",
       "12195      USA     Donald Arthur \"Don\" Schollander       Swimming          8   \n",
       "12197      USA              Nathan Ghar-Jun Adrian       Swimming          8   \n",
       "4191        UK                 Jason Francis Kenny        Cycling          7   \n",
       "4745     China                           Wu Minxia         Diving          7   \n",
       "\n",
       "       Event_Count  Medal_Per_Participation  \n",
       "12179           12                      1.0  \n",
       "150             10                      1.0  \n",
       "4925            10                      1.0  \n",
       "12184           10                      1.0  \n",
       "5296             9                      1.0  \n",
       "12191            8                      1.0  \n",
       "12195            8                      1.0  \n",
       "12197            8                      1.0  \n",
       "4191             7                      1.0  \n",
       "4745             7                      1.0  "
      ]
     },
     "execution_count": 41,
     "metadata": {},
     "output_type": "execute_result"
    }
   ],
   "source": [
    "# Now lets calculate the number of participations of each athlete. This will be sport wise.\n",
    "ath_sport_appearance = olympics_complete_subset.groupby(['Team', 'Name', 'Sport'])['NOC'].agg('count').reset_index()\n",
    "\n",
    "ath_sport_appearance.rename(columns = {'NOC': 'Event_Count'}, inplace = True)\n",
    "\n",
    "ath_sport_appearance.head()\n",
    "\n",
    "# lets merge these two.\n",
    "ath_medal_appearance = ath_sport_medal.merge(ath_sport_appearance,\n",
    "                                            left_on = [\"Team\", \"Name\", \"Sport\"],\n",
    "                                            right_on = ['Team', 'Name', 'Sport'],\n",
    "                                            how = \"left\")\n",
    "\n",
    "# Calculate the medal per participation\n",
    "ath_medal_appearance['Medal_Per_Participation'] = ath_medal_appearance['Medal_Won']/ath_medal_appearance['Event_Count']\n",
    "\n",
    "ath_medal_appearance.sort_values(['Medal_Per_Participation', 'Medal_Won'], ascending = [False, False], inplace = True)\n",
    "\n",
    "ath_medal_appearance.head(10)"
   ]
  },
  {
   "cell_type": "markdown",
   "metadata": {
    "_uuid": "9a567bf57cb80e01dbcfc257136caf1d58e05a54"
   },
   "source": [
    "We see a lot of athletes with below 10 medals but a medal every time they participate. Let's filter only those that have more than 10 medals."
   ]
  },
  {
   "cell_type": "code",
   "execution_count": 42,
   "metadata": {
    "_kg_hide-input": true,
    "_uuid": "f637244a338dcc06ec8232440d876a7dcf383172"
   },
   "outputs": [
    {
     "data": {
      "text/html": [
       "<div>\n",
       "<style scoped>\n",
       "    .dataframe tbody tr th:only-of-type {\n",
       "        vertical-align: middle;\n",
       "    }\n",
       "\n",
       "    .dataframe tbody tr th {\n",
       "        vertical-align: top;\n",
       "    }\n",
       "\n",
       "    .dataframe thead th {\n",
       "        text-align: right;\n",
       "    }\n",
       "</style>\n",
       "<table border=\"1\" class=\"dataframe\">\n",
       "  <thead>\n",
       "    <tr style=\"text-align: right;\">\n",
       "      <th></th>\n",
       "      <th>Team</th>\n",
       "      <th>Name</th>\n",
       "      <th>Sport</th>\n",
       "      <th>Medal_Won</th>\n",
       "      <th>Event_Count</th>\n",
       "      <th>Medal_Per_Participation</th>\n",
       "    </tr>\n",
       "  </thead>\n",
       "  <tbody>\n",
       "    <tr>\n",
       "      <th>12179</th>\n",
       "      <td>USA</td>\n",
       "      <td>Natalie Anne Coughlin (-Hall)</td>\n",
       "      <td>Swimming</td>\n",
       "      <td>12</td>\n",
       "      <td>12</td>\n",
       "      <td>1.000000</td>\n",
       "    </tr>\n",
       "    <tr>\n",
       "      <th>150</th>\n",
       "      <td>USA</td>\n",
       "      <td>Frederick Carlton \"Carl\" Lewis</td>\n",
       "      <td>Athletics</td>\n",
       "      <td>10</td>\n",
       "      <td>10</td>\n",
       "      <td>1.000000</td>\n",
       "    </tr>\n",
       "    <tr>\n",
       "      <th>4925</th>\n",
       "      <td>Germany</td>\n",
       "      <td>Isabelle Regina Werth</td>\n",
       "      <td>Equestrianism</td>\n",
       "      <td>10</td>\n",
       "      <td>10</td>\n",
       "      <td>1.000000</td>\n",
       "    </tr>\n",
       "    <tr>\n",
       "      <th>12184</th>\n",
       "      <td>USA</td>\n",
       "      <td>Gary Wayne Hall, Jr.</td>\n",
       "      <td>Swimming</td>\n",
       "      <td>10</td>\n",
       "      <td>10</td>\n",
       "      <td>1.000000</td>\n",
       "    </tr>\n",
       "    <tr>\n",
       "      <th>12176</th>\n",
       "      <td>USA</td>\n",
       "      <td>Michael Fred Phelps, II</td>\n",
       "      <td>Swimming</td>\n",
       "      <td>28</td>\n",
       "      <td>30</td>\n",
       "      <td>0.933333</td>\n",
       "    </tr>\n",
       "    <tr>\n",
       "      <th>3614</th>\n",
       "      <td>Germany</td>\n",
       "      <td>Birgit Fischer-Schmidt</td>\n",
       "      <td>Canoeing</td>\n",
       "      <td>12</td>\n",
       "      <td>13</td>\n",
       "      <td>0.923077</td>\n",
       "    </tr>\n",
       "    <tr>\n",
       "      <th>12177</th>\n",
       "      <td>USA</td>\n",
       "      <td>Dara Grace Torres (-Hoffman, -Minas)</td>\n",
       "      <td>Swimming</td>\n",
       "      <td>12</td>\n",
       "      <td>13</td>\n",
       "      <td>0.923077</td>\n",
       "    </tr>\n",
       "    <tr>\n",
       "      <th>12181</th>\n",
       "      <td>USA</td>\n",
       "      <td>Mark Andrew Spitz</td>\n",
       "      <td>Swimming</td>\n",
       "      <td>11</td>\n",
       "      <td>12</td>\n",
       "      <td>0.916667</td>\n",
       "    </tr>\n",
       "    <tr>\n",
       "      <th>12182</th>\n",
       "      <td>USA</td>\n",
       "      <td>Matthew Nicholas \"Matt\" Biondi</td>\n",
       "      <td>Swimming</td>\n",
       "      <td>11</td>\n",
       "      <td>12</td>\n",
       "      <td>0.916667</td>\n",
       "    </tr>\n",
       "    <tr>\n",
       "      <th>12180</th>\n",
       "      <td>USA</td>\n",
       "      <td>Ryan Steven Lochte</td>\n",
       "      <td>Swimming</td>\n",
       "      <td>12</td>\n",
       "      <td>14</td>\n",
       "      <td>0.857143</td>\n",
       "    </tr>\n",
       "    <tr>\n",
       "      <th>6809</th>\n",
       "      <td>Czech Republic</td>\n",
       "      <td>Vra slavsk (-Odloilov)</td>\n",
       "      <td>Gymnastics</td>\n",
       "      <td>10</td>\n",
       "      <td>12</td>\n",
       "      <td>0.833333</td>\n",
       "    </tr>\n",
       "    <tr>\n",
       "      <th>12178</th>\n",
       "      <td>USA</td>\n",
       "      <td>Jennifer Elisabeth \"Jenny\" Thompson (-Cumpelik)</td>\n",
       "      <td>Swimming</td>\n",
       "      <td>12</td>\n",
       "      <td>17</td>\n",
       "      <td>0.705882</td>\n",
       "    </tr>\n",
       "    <tr>\n",
       "      <th>6806</th>\n",
       "      <td>Russia</td>\n",
       "      <td>Nikolay Yefimovich Andrianov</td>\n",
       "      <td>Gymnastics</td>\n",
       "      <td>15</td>\n",
       "      <td>24</td>\n",
       "      <td>0.625000</td>\n",
       "    </tr>\n",
       "    <tr>\n",
       "      <th>6810</th>\n",
       "      <td>Japan</td>\n",
       "      <td>Akinori Nakayama</td>\n",
       "      <td>Gymnastics</td>\n",
       "      <td>10</td>\n",
       "      <td>16</td>\n",
       "      <td>0.625000</td>\n",
       "    </tr>\n",
       "    <tr>\n",
       "      <th>6811</th>\n",
       "      <td>Russia</td>\n",
       "      <td>Aleksandr Nikolayevich Dityatin</td>\n",
       "      <td>Gymnastics</td>\n",
       "      <td>10</td>\n",
       "      <td>16</td>\n",
       "      <td>0.625000</td>\n",
       "    </tr>\n",
       "    <tr>\n",
       "      <th>6808</th>\n",
       "      <td>Russia</td>\n",
       "      <td>Aleksey Yuryevich Nemov</td>\n",
       "      <td>Gymnastics</td>\n",
       "      <td>12</td>\n",
       "      <td>21</td>\n",
       "      <td>0.571429</td>\n",
       "    </tr>\n",
       "    <tr>\n",
       "      <th>6807</th>\n",
       "      <td>Japan</td>\n",
       "      <td>Sawao Kato</td>\n",
       "      <td>Gymnastics</td>\n",
       "      <td>12</td>\n",
       "      <td>24</td>\n",
       "      <td>0.500000</td>\n",
       "    </tr>\n",
       "    <tr>\n",
       "      <th>12183</th>\n",
       "      <td>Germany</td>\n",
       "      <td>Franziska van Almsick</td>\n",
       "      <td>Swimming</td>\n",
       "      <td>10</td>\n",
       "      <td>23</td>\n",
       "      <td>0.434783</td>\n",
       "    </tr>\n",
       "  </tbody>\n",
       "</table>\n",
       "</div>"
      ],
      "text/plain": [
       "                 Team                                             Name  \\\n",
       "12179             USA                    Natalie Anne Coughlin (-Hall)   \n",
       "150               USA                   Frederick Carlton \"Carl\" Lewis   \n",
       "4925          Germany                            Isabelle Regina Werth   \n",
       "12184             USA                             Gary Wayne Hall, Jr.   \n",
       "12176             USA                          Michael Fred Phelps, II   \n",
       "3614          Germany                           Birgit Fischer-Schmidt   \n",
       "12177             USA             Dara Grace Torres (-Hoffman, -Minas)   \n",
       "12181             USA                                Mark Andrew Spitz   \n",
       "12182             USA                   Matthew Nicholas \"Matt\" Biondi   \n",
       "12180             USA                               Ryan Steven Lochte   \n",
       "6809   Czech Republic                           Vra slavsk (-Odloilov)   \n",
       "12178             USA  Jennifer Elisabeth \"Jenny\" Thompson (-Cumpelik)   \n",
       "6806           Russia                     Nikolay Yefimovich Andrianov   \n",
       "6810            Japan                                 Akinori Nakayama   \n",
       "6811           Russia                  Aleksandr Nikolayevich Dityatin   \n",
       "6808           Russia                          Aleksey Yuryevich Nemov   \n",
       "6807            Japan                                       Sawao Kato   \n",
       "12183         Germany                            Franziska van Almsick   \n",
       "\n",
       "               Sport  Medal_Won  Event_Count  Medal_Per_Participation  \n",
       "12179       Swimming         12           12                 1.000000  \n",
       "150        Athletics         10           10                 1.000000  \n",
       "4925   Equestrianism         10           10                 1.000000  \n",
       "12184       Swimming         10           10                 1.000000  \n",
       "12176       Swimming         28           30                 0.933333  \n",
       "3614        Canoeing         12           13                 0.923077  \n",
       "12177       Swimming         12           13                 0.923077  \n",
       "12181       Swimming         11           12                 0.916667  \n",
       "12182       Swimming         11           12                 0.916667  \n",
       "12180       Swimming         12           14                 0.857143  \n",
       "6809      Gymnastics         10           12                 0.833333  \n",
       "12178       Swimming         12           17                 0.705882  \n",
       "6806      Gymnastics         15           24                 0.625000  \n",
       "6810      Gymnastics         10           16                 0.625000  \n",
       "6811      Gymnastics         10           16                 0.625000  \n",
       "6808      Gymnastics         12           21                 0.571429  \n",
       "6807      Gymnastics         12           24                 0.500000  \n",
       "12183       Swimming         10           23                 0.434783  "
      ]
     },
     "execution_count": 42,
     "metadata": {},
     "output_type": "execute_result"
    }
   ],
   "source": [
    "# filter out athletes with less than 10 total medals.\n",
    "ath_medal_appearance = ath_medal_appearance[ath_medal_appearance['Medal_Won'] >= 10]\n",
    "\n",
    "ath_medal_appearance"
   ]
  },
  {
   "cell_type": "markdown",
   "metadata": {
    "_uuid": "48a25a3e8c7f9070c926ad64879ad66701b6b3fd"
   },
   "source": [
    "We see that 9 out of 18 athletes in this list are from the United States of America and 8 of those are champion swimmers!"
   ]
  },
  {
   "cell_type": "markdown",
   "metadata": {
    "_uuid": "1115c333d6264ea670504a2c35fc04c03f4a22b6"
   },
   "source": [
    "After the exploration, a lot of different questions come to mind. Can we predict the medal tally of a country? Is there some correlation between the age, height or weight of athletes in a sport? Lets try to answer these using machine learning techniques!"
   ]
  },
  {
   "cell_type": "markdown",
   "metadata": {
    "_uuid": "6d1ae5077bc26f8b23d5feef905501a1a1278159"
   },
   "source": [
    "## Can we predict the medal tally of a country?\n",
    "\n",
    "The exploration phase showed that the following factors affect a country's medal tally - \n",
    "1. GDP\n",
    "2. Contingent Size\n",
    "3. Population\n",
    "4. Home field advantage"
   ]
  },
  {
   "cell_type": "code",
   "execution_count": 43,
   "metadata": {
    "_uuid": "33c9cf9cf1eb504d5e4680173c749d557f2b73c3"
   },
   "outputs": [
    {
     "data": {
      "text/html": [
       "<div>\n",
       "<style scoped>\n",
       "    .dataframe tbody tr th:only-of-type {\n",
       "        vertical-align: middle;\n",
       "    }\n",
       "\n",
       "    .dataframe tbody tr th {\n",
       "        vertical-align: top;\n",
       "    }\n",
       "\n",
       "    .dataframe thead th {\n",
       "        text-align: right;\n",
       "    }\n",
       "</style>\n",
       "<table border=\"1\" class=\"dataframe\">\n",
       "  <thead>\n",
       "    <tr style=\"text-align: right;\">\n",
       "      <th></th>\n",
       "      <th>Year</th>\n",
       "      <th>Team</th>\n",
       "      <th>Total_Athletes</th>\n",
       "    </tr>\n",
       "  </thead>\n",
       "  <tbody>\n",
       "    <tr>\n",
       "      <th>0</th>\n",
       "      <td>1964</td>\n",
       "      <td>Afghanistan</td>\n",
       "      <td>8.0</td>\n",
       "    </tr>\n",
       "    <tr>\n",
       "      <th>1</th>\n",
       "      <td>1964</td>\n",
       "      <td>Algeria</td>\n",
       "      <td>1.0</td>\n",
       "    </tr>\n",
       "    <tr>\n",
       "      <th>2</th>\n",
       "      <td>1964</td>\n",
       "      <td>Argentina</td>\n",
       "      <td>102.0</td>\n",
       "    </tr>\n",
       "    <tr>\n",
       "      <th>3</th>\n",
       "      <td>1964</td>\n",
       "      <td>Australia</td>\n",
       "      <td>243.0</td>\n",
       "    </tr>\n",
       "    <tr>\n",
       "      <th>4</th>\n",
       "      <td>1964</td>\n",
       "      <td>Austria</td>\n",
       "      <td>56.0</td>\n",
       "    </tr>\n",
       "  </tbody>\n",
       "</table>\n",
       "</div>"
      ],
      "text/plain": [
       "   Year         Team  Total_Athletes\n",
       "0  1964  Afghanistan             8.0\n",
       "1  1964      Algeria             1.0\n",
       "2  1964    Argentina           102.0\n",
       "3  1964    Australia           243.0\n",
       "4  1964      Austria            56.0"
      ]
     },
     "execution_count": 43,
     "metadata": {},
     "output_type": "execute_result"
    }
   ],
   "source": [
    "# create the year, team contingent size\n",
    "year_team_gender = olympics_complete_subset.loc[:,['Year','Team', 'Name', 'Sex']].drop_duplicates()\n",
    "\n",
    "year_team_gender_count = pd.pivot_table(year_team_gender,\n",
    "                                        index = ['Year', 'Team'],\n",
    "                                        columns = 'Sex',\n",
    "                                        aggfunc = 'count').reset_index()\n",
    "\n",
    "# rename columns as per column names in the 0th level\n",
    "year_team_gender_count.columns = year_team_gender_count.columns.get_level_values(0)\n",
    "\n",
    "# rename the columns appropriately\n",
    "year_team_gender_count.columns = ['Year', 'Team', 'Female_Athletes', 'Male_Athletes']\n",
    "year_team_gender_count = year_team_gender_count.fillna(0)\n",
    "\n",
    "# get total athletes per team-year\n",
    "year_team_gender_count['Total_Athletes'] = year_team_gender_count['Female_Athletes'] + \\\n",
    "year_team_gender_count['Male_Athletes']\n",
    "\n",
    "year_team_contingent = year_team_gender_count.loc[:, ['Year', 'Team','Total_Athletes']]\n",
    "year_team_contingent.head()"
   ]
  },
  {
   "cell_type": "code",
   "execution_count": 44,
   "metadata": {
    "_uuid": "e82a8fd291a579e3cae6d0e2d57db209e781586a"
   },
   "outputs": [
    {
     "data": {
      "text/html": [
       "<div>\n",
       "<style scoped>\n",
       "    .dataframe tbody tr th:only-of-type {\n",
       "        vertical-align: middle;\n",
       "    }\n",
       "\n",
       "    .dataframe tbody tr th {\n",
       "        vertical-align: top;\n",
       "    }\n",
       "\n",
       "    .dataframe thead th {\n",
       "        text-align: right;\n",
       "    }\n",
       "</style>\n",
       "<table border=\"1\" class=\"dataframe\">\n",
       "  <thead>\n",
       "    <tr style=\"text-align: right;\">\n",
       "      <th></th>\n",
       "      <th>Year</th>\n",
       "      <th>Team</th>\n",
       "      <th>Medal_Won_Corrected</th>\n",
       "      <th>GDP</th>\n",
       "    </tr>\n",
       "  </thead>\n",
       "  <tbody>\n",
       "    <tr>\n",
       "      <th>0</th>\n",
       "      <td>1964</td>\n",
       "      <td>Afghanistan</td>\n",
       "      <td>0.0</td>\n",
       "      <td>8.000000e+08</td>\n",
       "    </tr>\n",
       "    <tr>\n",
       "      <th>1</th>\n",
       "      <td>1964</td>\n",
       "      <td>Algeria</td>\n",
       "      <td>0.0</td>\n",
       "      <td>2.909352e+09</td>\n",
       "    </tr>\n",
       "    <tr>\n",
       "      <th>2</th>\n",
       "      <td>1964</td>\n",
       "      <td>Argentina</td>\n",
       "      <td>1.0</td>\n",
       "      <td>2.560525e+10</td>\n",
       "    </tr>\n",
       "    <tr>\n",
       "      <th>3</th>\n",
       "      <td>1964</td>\n",
       "      <td>Australia</td>\n",
       "      <td>18.0</td>\n",
       "      <td>2.378766e+10</td>\n",
       "    </tr>\n",
       "    <tr>\n",
       "      <th>4</th>\n",
       "      <td>1964</td>\n",
       "      <td>Austria</td>\n",
       "      <td>0.0</td>\n",
       "      <td>9.169984e+09</td>\n",
       "    </tr>\n",
       "  </tbody>\n",
       "</table>\n",
       "</div>"
      ],
      "text/plain": [
       "   Year         Team  Medal_Won_Corrected           GDP\n",
       "0  1964  Afghanistan                  0.0  8.000000e+08\n",
       "1  1964      Algeria                  0.0  2.909352e+09\n",
       "2  1964    Argentina                  1.0  2.560525e+10\n",
       "3  1964    Australia                 18.0  2.378766e+10\n",
       "4  1964      Austria                  0.0  9.169984e+09"
      ]
     },
     "execution_count": 44,
     "metadata": {},
     "output_type": "execute_result"
    }
   ],
   "source": [
    "# get year, team and GDP - medal_tally_gdp has it\n",
    "medal_tally_gdp.head()"
   ]
  },
  {
   "cell_type": "code",
   "execution_count": 45,
   "metadata": {
    "_uuid": "023c1c025e7503537729b5eb2515d6c05b06366a"
   },
   "outputs": [
    {
     "data": {
      "text/html": [
       "<div>\n",
       "<style scoped>\n",
       "    .dataframe tbody tr th:only-of-type {\n",
       "        vertical-align: middle;\n",
       "    }\n",
       "\n",
       "    .dataframe tbody tr th {\n",
       "        vertical-align: top;\n",
       "    }\n",
       "\n",
       "    .dataframe thead th {\n",
       "        text-align: right;\n",
       "    }\n",
       "</style>\n",
       "<table border=\"1\" class=\"dataframe\">\n",
       "  <thead>\n",
       "    <tr style=\"text-align: right;\">\n",
       "      <th></th>\n",
       "      <th>Year</th>\n",
       "      <th>Team</th>\n",
       "      <th>Population</th>\n",
       "    </tr>\n",
       "  </thead>\n",
       "  <tbody>\n",
       "    <tr>\n",
       "      <th>0</th>\n",
       "      <td>1992</td>\n",
       "      <td>China</td>\n",
       "      <td>1.164970e+09</td>\n",
       "    </tr>\n",
       "    <tr>\n",
       "      <th>1</th>\n",
       "      <td>2012</td>\n",
       "      <td>China</td>\n",
       "      <td>1.350695e+09</td>\n",
       "    </tr>\n",
       "    <tr>\n",
       "      <th>2</th>\n",
       "      <td>2000</td>\n",
       "      <td>Finland</td>\n",
       "      <td>5.176209e+06</td>\n",
       "    </tr>\n",
       "    <tr>\n",
       "      <th>3</th>\n",
       "      <td>1996</td>\n",
       "      <td>Finland</td>\n",
       "      <td>5.124573e+06</td>\n",
       "    </tr>\n",
       "    <tr>\n",
       "      <th>6</th>\n",
       "      <td>2008</td>\n",
       "      <td>Norway</td>\n",
       "      <td>4.768212e+06</td>\n",
       "    </tr>\n",
       "  </tbody>\n",
       "</table>\n",
       "</div>"
      ],
      "text/plain": [
       "   Year     Team    Population\n",
       "0  1992    China  1.164970e+09\n",
       "1  2012    China  1.350695e+09\n",
       "2  2000  Finland  5.176209e+06\n",
       "3  1996  Finland  5.124573e+06\n",
       "6  2008   Norway  4.768212e+06"
      ]
     },
     "execution_count": 45,
     "metadata": {},
     "output_type": "execute_result"
    }
   ],
   "source": [
    "# Get year team population\n",
    "year_team_pop = olympics_complete_subset.loc[:, ['Year', 'Team', 'Population']].drop_duplicates()\n",
    "year_team_pop.head()"
   ]
  },
  {
   "cell_type": "code",
   "execution_count": 46,
   "metadata": {
    "_uuid": "183bc168741eca33c1a789ec608ac4723a78edd4"
   },
   "outputs": [
    {
     "data": {
      "text/html": [
       "<div>\n",
       "<style scoped>\n",
       "    .dataframe tbody tr th:only-of-type {\n",
       "        vertical-align: middle;\n",
       "    }\n",
       "\n",
       "    .dataframe tbody tr th {\n",
       "        vertical-align: top;\n",
       "    }\n",
       "\n",
       "    .dataframe thead th {\n",
       "        text-align: right;\n",
       "    }\n",
       "</style>\n",
       "<table border=\"1\" class=\"dataframe\">\n",
       "  <thead>\n",
       "    <tr style=\"text-align: right;\">\n",
       "      <th></th>\n",
       "      <th>Year</th>\n",
       "      <th>Team</th>\n",
       "      <th>Medal_Won_Corrected</th>\n",
       "      <th>GDP</th>\n",
       "      <th>Population</th>\n",
       "      <th>Total_Athletes</th>\n",
       "    </tr>\n",
       "  </thead>\n",
       "  <tbody>\n",
       "    <tr>\n",
       "      <th>0</th>\n",
       "      <td>1964</td>\n",
       "      <td>Afghanistan</td>\n",
       "      <td>0.0</td>\n",
       "      <td>8.000000e+08</td>\n",
       "      <td>9731361.0</td>\n",
       "      <td>8.0</td>\n",
       "    </tr>\n",
       "    <tr>\n",
       "      <th>1</th>\n",
       "      <td>1964</td>\n",
       "      <td>Algeria</td>\n",
       "      <td>0.0</td>\n",
       "      <td>2.909352e+09</td>\n",
       "      <td>12295970.0</td>\n",
       "      <td>1.0</td>\n",
       "    </tr>\n",
       "    <tr>\n",
       "      <th>2</th>\n",
       "      <td>1964</td>\n",
       "      <td>Argentina</td>\n",
       "      <td>1.0</td>\n",
       "      <td>2.560525e+10</td>\n",
       "      <td>21953929.0</td>\n",
       "      <td>102.0</td>\n",
       "    </tr>\n",
       "    <tr>\n",
       "      <th>3</th>\n",
       "      <td>1964</td>\n",
       "      <td>Australia</td>\n",
       "      <td>18.0</td>\n",
       "      <td>2.378766e+10</td>\n",
       "      <td>11167000.0</td>\n",
       "      <td>243.0</td>\n",
       "    </tr>\n",
       "    <tr>\n",
       "      <th>4</th>\n",
       "      <td>1964</td>\n",
       "      <td>Austria</td>\n",
       "      <td>0.0</td>\n",
       "      <td>9.169984e+09</td>\n",
       "      <td>7223801.0</td>\n",
       "      <td>56.0</td>\n",
       "    </tr>\n",
       "  </tbody>\n",
       "</table>\n",
       "</div>"
      ],
      "text/plain": [
       "   Year         Team  Medal_Won_Corrected           GDP  Population  \\\n",
       "0  1964  Afghanistan                  0.0  8.000000e+08   9731361.0   \n",
       "1  1964      Algeria                  0.0  2.909352e+09  12295970.0   \n",
       "2  1964    Argentina                  1.0  2.560525e+10  21953929.0   \n",
       "3  1964    Australia                 18.0  2.378766e+10  11167000.0   \n",
       "4  1964      Austria                  0.0  9.169984e+09   7223801.0   \n",
       "\n",
       "   Total_Athletes  \n",
       "0             8.0  \n",
       "1             1.0  \n",
       "2           102.0  \n",
       "3           243.0  \n",
       "4            56.0  "
      ]
     },
     "execution_count": 46,
     "metadata": {},
     "output_type": "execute_result"
    }
   ],
   "source": [
    "# merge all these datasets together\n",
    "medal_gdp_population = medal_tally_gdp.merge(year_team_pop,\n",
    "                                            left_on = ['Year', 'Team'],\n",
    "                                            right_on = ['Year', 'Team'],\n",
    "                                            how = 'left')\n",
    "\n",
    "medal_gdp_pop_contingent = medal_gdp_population.merge(year_team_contingent,\n",
    "                                                     left_on = ['Year', 'Team'],\n",
    "                                                     right_on = ['Year', 'Team'],\n",
    "                                                     how = 'left')\n",
    "medal_gdp_pop_contingent.head()"
   ]
  },
  {
   "cell_type": "code",
   "execution_count": 47,
   "metadata": {
    "_uuid": "bbc3e2658092b58daff510f866a385554b3f92e8"
   },
   "outputs": [
    {
     "data": {
      "text/html": [
       "<div>\n",
       "<style scoped>\n",
       "    .dataframe tbody tr th:only-of-type {\n",
       "        vertical-align: middle;\n",
       "    }\n",
       "\n",
       "    .dataframe tbody tr th {\n",
       "        vertical-align: top;\n",
       "    }\n",
       "\n",
       "    .dataframe thead th {\n",
       "        text-align: right;\n",
       "    }\n",
       "</style>\n",
       "<table border=\"1\" class=\"dataframe\">\n",
       "  <thead>\n",
       "    <tr style=\"text-align: right;\">\n",
       "      <th></th>\n",
       "      <th>Year</th>\n",
       "      <th>Team</th>\n",
       "      <th>Medal_Won_Corrected</th>\n",
       "      <th>GDP</th>\n",
       "      <th>Population</th>\n",
       "      <th>Total_Athletes</th>\n",
       "      <th>Country_Host</th>\n",
       "    </tr>\n",
       "  </thead>\n",
       "  <tbody>\n",
       "    <tr>\n",
       "      <th>0</th>\n",
       "      <td>1964</td>\n",
       "      <td>Afghanistan</td>\n",
       "      <td>0.0</td>\n",
       "      <td>8.000000e+08</td>\n",
       "      <td>9731361.0</td>\n",
       "      <td>8.0</td>\n",
       "      <td>Japan</td>\n",
       "    </tr>\n",
       "    <tr>\n",
       "      <th>1</th>\n",
       "      <td>1964</td>\n",
       "      <td>Algeria</td>\n",
       "      <td>0.0</td>\n",
       "      <td>2.909352e+09</td>\n",
       "      <td>12295970.0</td>\n",
       "      <td>1.0</td>\n",
       "      <td>Japan</td>\n",
       "    </tr>\n",
       "    <tr>\n",
       "      <th>2</th>\n",
       "      <td>1964</td>\n",
       "      <td>Argentina</td>\n",
       "      <td>1.0</td>\n",
       "      <td>2.560525e+10</td>\n",
       "      <td>21953929.0</td>\n",
       "      <td>102.0</td>\n",
       "      <td>Japan</td>\n",
       "    </tr>\n",
       "    <tr>\n",
       "      <th>3</th>\n",
       "      <td>1964</td>\n",
       "      <td>Australia</td>\n",
       "      <td>18.0</td>\n",
       "      <td>2.378766e+10</td>\n",
       "      <td>11167000.0</td>\n",
       "      <td>243.0</td>\n",
       "      <td>Japan</td>\n",
       "    </tr>\n",
       "    <tr>\n",
       "      <th>4</th>\n",
       "      <td>1964</td>\n",
       "      <td>Austria</td>\n",
       "      <td>0.0</td>\n",
       "      <td>9.169984e+09</td>\n",
       "      <td>7223801.0</td>\n",
       "      <td>56.0</td>\n",
       "      <td>Japan</td>\n",
       "    </tr>\n",
       "  </tbody>\n",
       "</table>\n",
       "</div>"
      ],
      "text/plain": [
       "   Year         Team  Medal_Won_Corrected           GDP  Population  \\\n",
       "0  1964  Afghanistan                  0.0  8.000000e+08   9731361.0   \n",
       "1  1964      Algeria                  0.0  2.909352e+09  12295970.0   \n",
       "2  1964    Argentina                  1.0  2.560525e+10  21953929.0   \n",
       "3  1964    Australia                 18.0  2.378766e+10  11167000.0   \n",
       "4  1964      Austria                  0.0  9.169984e+09   7223801.0   \n",
       "\n",
       "   Total_Athletes Country_Host  \n",
       "0             8.0        Japan  \n",
       "1             1.0        Japan  \n",
       "2           102.0        Japan  \n",
       "3           243.0        Japan  \n",
       "4            56.0        Japan  "
      ]
     },
     "execution_count": 47,
     "metadata": {},
     "output_type": "execute_result"
    }
   ],
   "source": [
    "# get host nation from the data\n",
    "year_host = olympics_complete_subset.loc[:, ['Year', 'Country_Host']].drop_duplicates()\n",
    "\n",
    "# merge this with the larger dataset\n",
    "lin_model_data = medal_gdp_pop_contingent.merge(year_host,\n",
    "                              left_on = 'Year',\n",
    "                              right_on = 'Year',\n",
    "                              how = 'left')\n",
    "\n",
    "lin_model_data.head()"
   ]
  },
  {
   "cell_type": "code",
   "execution_count": 48,
   "metadata": {
    "_uuid": "2608d709e6eaadb720308989d9e062ac8adffd68"
   },
   "outputs": [
    {
     "data": {
      "text/plain": [
       "Text(0.5, 1.0, 'Population Distribution')"
      ]
     },
     "execution_count": 48,
     "metadata": {},
     "output_type": "execute_result"
    },
    {
     "data": {
      "image/png": "[encoded data removed]",
      "text/plain": [
       "<Figure size 1008x360 with 2 Axes>"
      ]
     },
     "metadata": {
      "needs_background": "light"
     },
     "output_type": "display_data"
    }
   ],
   "source": [
    "# Regression model\n",
    "import statsmodels.api as sm\n",
    "from patsy import dmatrices\n",
    "from sklearn import metrics\n",
    "\n",
    "# add indicator to see whether home advantage\n",
    "lin_model_data['Home_adv'] = np.where(lin_model_data['Country_Host'] == lin_model_data['Team'], 1, 0)\n",
    "\n",
    "# Add per capita GDP\n",
    "lin_model_data['GDP_per_capita'] = lin_model_data['GDP']/lin_model_data['Population']\n",
    "\n",
    "# remove NAs\n",
    "lin_model_data.dropna(how = 'any', inplace = True)\n",
    "\n",
    "\n",
    "# Lets see the distrbution of population and GDP in a histogram\n",
    "\n",
    "fig, (ax1, ax2) = subplots(nrows = 1,\n",
    "                          ncols = 2,\n",
    "                          figsize = (14,5))\n",
    "\n",
    "lin_model_data['GDP'].hist(bins = 15, ax = ax1)\n",
    "ax1.set_title('GDP Distrbution')\n",
    "\n",
    "lin_model_data['Population'].hist(bins = 15, ax = ax2)\n",
    "ax2.set_title('Population Distribution')"
   ]
  },
  {
   "cell_type": "markdown",
   "metadata": {
    "_uuid": "95db04b198d1c8d5c4fdd531efae9f95bbcfbfa5"
   },
   "source": [
    "The charts show that these variables are highly skewed. It would do better to do a logarithmic transform of these for better fit in the linear model."
   ]
  },
  {
   "cell_type": "code",
   "execution_count": 49,
   "metadata": {
    "_uuid": "b2c2a4247ab5b1348b8d8555e697dd62d5f7f6bd"
   },
   "outputs": [],
   "source": [
    "import math\n",
    "\n",
    "# take the log transforms for the variables\n",
    "lin_model_data['Log_Population'] = np.log(lin_model_data['Population'])\n",
    "lin_model_data['Log_GDP'] = np.log(lin_model_data['GDP'])"
   ]
  },
  {
   "cell_type": "code",
   "execution_count": 50,
   "metadata": {
    "_kg_hide-input": false,
    "_uuid": "6c386ca90ac0aa3a3c532f19e3ee13883bf3da8a"
   },
   "outputs": [
    {
     "data": {
      "text/html": [
       "<table class=\"simpletable\">\n",
       "<caption>OLS Regression Results</caption>\n",
       "<tr>\n",
       "  <th>Dep. Variable:</th>    <td>Medal_Won_Corrected</td> <th>  R-squared:         </th> <td>   0.755</td> \n",
       "</tr>\n",
       "<tr>\n",
       "  <th>Model:</th>                    <td>OLS</td>         <th>  Adj. R-squared:    </th> <td>   0.754</td> \n",
       "</tr>\n",
       "<tr>\n",
       "  <th>Method:</th>              <td>Least Squares</td>    <th>  F-statistic:       </th> <td>   1170.</td> \n",
       "</tr>\n",
       "<tr>\n",
       "  <th>Date:</th>              <td>Wed, 14 Dec 2022</td>   <th>  Prob (F-statistic):</th>  <td>  0.00</td>  \n",
       "</tr>\n",
       "<tr>\n",
       "  <th>Time:</th>                  <td>22:48:43</td>       <th>  Log-Likelihood:    </th> <td> -6455.3</td> \n",
       "</tr>\n",
       "<tr>\n",
       "  <th>No. Observations:</th>       <td>  1907</td>        <th>  AIC:               </th> <td>1.292e+04</td>\n",
       "</tr>\n",
       "<tr>\n",
       "  <th>Df Residuals:</th>           <td>  1901</td>        <th>  BIC:               </th> <td>1.296e+04</td>\n",
       "</tr>\n",
       "<tr>\n",
       "  <th>Df Model:</th>               <td>     5</td>        <th>                     </th>     <td> </td>    \n",
       "</tr>\n",
       "<tr>\n",
       "  <th>Covariance Type:</th>       <td>nonrobust</td>      <th>                     </th>     <td> </td>    \n",
       "</tr>\n",
       "</table>\n",
       "<table class=\"simpletable\">\n",
       "<tr>\n",
       "         <td></td>           <th>coef</th>     <th>std err</th>      <th>t</th>      <th>P>|t|</th>  <th>[0.025</th>    <th>0.975]</th>  \n",
       "</tr>\n",
       "<tr>\n",
       "  <th>Intercept</th>      <td>   16.6564</td> <td>    2.214</td> <td>    7.525</td> <td> 0.000</td> <td>   12.315</td> <td>   20.998</td>\n",
       "</tr>\n",
       "<tr>\n",
       "  <th>Log_GDP</th>        <td>   -1.1254</td> <td>    0.161</td> <td>   -7.009</td> <td> 0.000</td> <td>   -1.440</td> <td>   -0.811</td>\n",
       "</tr>\n",
       "<tr>\n",
       "  <th>Log_Population</th> <td>    0.3971</td> <td>    0.155</td> <td>    2.562</td> <td> 0.010</td> <td>    0.093</td> <td>    0.701</td>\n",
       "</tr>\n",
       "<tr>\n",
       "  <th>Total_Athletes</th> <td>    0.1462</td> <td>    0.002</td> <td>   58.549</td> <td> 0.000</td> <td>    0.141</td> <td>    0.151</td>\n",
       "</tr>\n",
       "<tr>\n",
       "  <th>Home_adv</th>       <td>   -7.9921</td> <td>    2.180</td> <td>   -3.665</td> <td> 0.000</td> <td>  -12.269</td> <td>   -3.716</td>\n",
       "</tr>\n",
       "<tr>\n",
       "  <th>GDP_per_capita</th> <td> 1.344e-05</td> <td> 1.48e-05</td> <td>    0.907</td> <td> 0.365</td> <td>-1.56e-05</td> <td> 4.25e-05</td>\n",
       "</tr>\n",
       "</table>\n",
       "<table class=\"simpletable\">\n",
       "<tr>\n",
       "  <th>Omnibus:</th>       <td>1859.147</td> <th>  Durbin-Watson:     </th>  <td>   2.074</td> \n",
       "</tr>\n",
       "<tr>\n",
       "  <th>Prob(Omnibus):</th>  <td> 0.000</td>  <th>  Jarque-Bera (JB):  </th> <td>253485.577</td>\n",
       "</tr>\n",
       "<tr>\n",
       "  <th>Skew:</th>           <td> 4.229</td>  <th>  Prob(JB):          </th>  <td>    0.00</td> \n",
       "</tr>\n",
       "<tr>\n",
       "  <th>Kurtosis:</th>       <td>58.845</td>  <th>  Cond. No.          </th>  <td>2.64e+05</td> \n",
       "</tr>\n",
       "</table><br/><br/>Notes:<br/>[1] Standard Errors assume that the covariance matrix of the errors is correctly specified.<br/>[2] The condition number is large, 2.64e+05. This might indicate that there are<br/>strong multicollinearity or other numerical problems."
      ],
      "text/plain": [
       "<class 'statsmodels.iolib.summary.Summary'>\n",
       "\"\"\"\n",
       "                             OLS Regression Results                            \n",
       "===============================================================================\n",
       "Dep. Variable:     Medal_Won_Corrected   R-squared:                       0.755\n",
       "Model:                             OLS   Adj. R-squared:                  0.754\n",
       "Method:                  Least Squares   F-statistic:                     1170.\n",
       "Date:                 Wed, 14 Dec 2022   Prob (F-statistic):               0.00\n",
       "Time:                         22:48:43   Log-Likelihood:                -6455.3\n",
       "No. Observations:                 1907   AIC:                         1.292e+04\n",
       "Df Residuals:                     1901   BIC:                         1.296e+04\n",
       "Df Model:                            5                                         \n",
       "Covariance Type:             nonrobust                                         \n",
       "==================================================================================\n",
       "                     coef    std err          t      P>|t|      [0.025      0.975]\n",
       "----------------------------------------------------------------------------------\n",
       "Intercept         16.6564      2.214      7.525      0.000      12.315      20.998\n",
       "Log_GDP           -1.1254      0.161     -7.009      0.000      -1.440      -0.811\n",
       "Log_Population     0.3971      0.155      2.562      0.010       0.093       0.701\n",
       "Total_Athletes     0.1462      0.002     58.549      0.000       0.141       0.151\n",
       "Home_adv          -7.9921      2.180     -3.665      0.000     -12.269      -3.716\n",
       "GDP_per_capita  1.344e-05   1.48e-05      0.907      0.365   -1.56e-05    4.25e-05\n",
       "==============================================================================\n",
       "Omnibus:                     1859.147   Durbin-Watson:                   2.074\n",
       "Prob(Omnibus):                  0.000   Jarque-Bera (JB):           253485.577\n",
       "Skew:                           4.229   Prob(JB):                         0.00\n",
       "Kurtosis:                      58.845   Cond. No.                     2.64e+05\n",
       "==============================================================================\n",
       "\n",
       "Notes:\n",
       "[1] Standard Errors assume that the covariance matrix of the errors is correctly specified.\n",
       "[2] The condition number is large, 2.64e+05. This might indicate that there are\n",
       "strong multicollinearity or other numerical problems.\n",
       "\"\"\""
      ]
     },
     "execution_count": 50,
     "metadata": {},
     "output_type": "execute_result"
    }
   ],
   "source": [
    "# regression model\n",
    "y, X = dmatrices('Medal_Won_Corrected ~ Log_GDP + Log_Population + Total_Athletes + Home_adv + GDP_per_capita', \n",
    "                data = lin_model_data,\n",
    "                return_type = 'dataframe')\n",
    "\n",
    "model = sm.OLS(y, X)\n",
    "result = model.fit()\n",
    "\n",
    "result.summary()"
   ]
  },
  {
   "cell_type": "markdown",
   "metadata": {
    "_uuid": "89e8c00764d7a15173332687228e0b7a387c0dd8"
   },
   "source": [
    "The result summary above shows an R^2 value of 0.75 which is good. This means that these variables account for 75% of all variation in the medal tally."
   ]
  },
  {
   "cell_type": "markdown",
   "metadata": {
    "_uuid": "bef4b7c329a6f042d64ed24b1218f881e6c03b0b"
   },
   "source": [
    "75% is a good R^2, but what matters more is the amount of error we get when predicting the medal tally of a country - It should not be too large. The RMSE error on the predictions is shown below - "
   ]
  },
  {
   "cell_type": "code",
   "execution_count": 51,
   "metadata": {
    "_uuid": "f90c5c735734147157339673fe5a44e67e0a85ac"
   },
   "outputs": [
    {
     "data": {
      "text/plain": [
       "7.142700384582235"
      ]
     },
     "execution_count": 51,
     "metadata": {},
     "output_type": "execute_result"
    }
   ],
   "source": [
    "# what is the error associated with this prediction?\n",
    "y_predicted = result.predict(X)\n",
    "np.sqrt(metrics.mean_squared_error(y, y_predicted))"
   ]
  },
  {
   "cell_type": "markdown",
   "metadata": {
    "_uuid": "b37bbc65959e5b28f253a743a12ef71b99147839"
   },
   "source": [
    "The above result shows that if these predictors are known, we can predict the medal tally of a country with an error of just ~7 medals! Thats impressive!"
   ]
  },
  {
   "cell_type": "markdown",
   "metadata": {
    "_uuid": "5f8f402ef23b9b9e0a5800974b9895112f282e07"
   },
   "source": [
    "### Can we predict the sport an athlete plays using just height and weight?"
   ]
  },
  {
   "cell_type": "code",
   "execution_count": 52,
   "metadata": {
    "_uuid": "d63a595c8e2b7576c9c26975926850be4ba53d03"
   },
   "outputs": [
    {
     "data": {
      "text/plain": [
       "array(['Basketball', 'Judo', 'Badminton', 'Sailing', 'Athletics',\n",
       "       'Handball', 'Weightlifting', 'Wrestling', 'Water Polo', 'Hockey',\n",
       "       'Rowing', 'Swimming', 'Football', 'Equestrianism', 'Boxing',\n",
       "       'Gymnastics', 'Taekwondo', 'Fencing', 'Diving', 'Canoeing',\n",
       "       'Tennis', 'Shooting', 'Cycling', 'Softball', 'Archery',\n",
       "       'Volleyball', 'Synchronized Swimming', 'Modern Pentathlon',\n",
       "       'Table Tennis', 'Baseball', 'Rhythmic Gymnastics', 'Rugby Sevens',\n",
       "       'Trampolining', 'Beach Volleyball', 'Triathlon', 'Golf'],\n",
       "      dtype=object)"
      ]
     },
     "execution_count": 52,
     "metadata": {},
     "output_type": "execute_result"
    }
   ],
   "source": [
    "# How many unique sports are there?\n",
    "olympics_complete_subset['Sport'].unique()"
   ]
  },
  {
   "cell_type": "code",
   "execution_count": 53,
   "metadata": {
    "_uuid": "adf68e55414dd859860a71f62f891c32c509c5bc"
   },
   "outputs": [],
   "source": [
    "# extract sports data for males and height, weight statistics\n",
    "base_data_male = olympics_complete_subset.loc[olympics_complete_subset['Sex'] == \"M\",\n",
    "                                              ['Sport', 'Age','Weight', 'Height']].drop_duplicates()"
   ]
  },
  {
   "cell_type": "code",
   "execution_count": 54,
   "metadata": {
    "_uuid": "29a01e173c1b94dfb980ebcc421810eb2203d069"
   },
   "outputs": [],
   "source": [
    "# Need to create y, X for the K nearest neighbors problem\n",
    "Y, X = dmatrices('Sport ~ 0 + Weight + Height',\n",
    "                data = base_data_male,\n",
    "                return_type = 'dataframe')"
   ]
  },
  {
   "cell_type": "markdown",
   "metadata": {
    "_uuid": "795396c850fa986ea948e47a1905078622e98f70"
   },
   "source": [
    "Plotting for a few sports we see that, we can distinguish players who play athletics and weightlifting easily due to their unusual height or weight, but the rest of the sports look tricky to distinguish just on the basis of height and weight."
   ]
  },
  {
   "cell_type": "code",
   "execution_count": 55,
   "metadata": {
    "_uuid": "00c2cef35b5ca036f0a7ed54d211d7df56e8a57c"
   },
   "outputs": [
    {
     "data": {
      "image/png": "[encoded data removed]",
      "text/plain": [
       "<Figure size 936x432 with 2 Axes>"
      ]
     },
     "metadata": {
      "needs_background": "light"
     },
     "output_type": "display_data"
    }
   ],
   "source": [
    "fig, (ax1, ax2) = subplots(nrows = 1, ncols = 2, figsize = (13,6))\n",
    "\n",
    "ax1.scatter(X['Weight'], X['Height'], c = Y['Sport[Weightlifting]'], cmap = 'bwr', marker = '.', alpha = 0.3)\n",
    "ax1.set_title('Weightlifting vs Height and Weight')\n",
    "ax1.set_xlabel('Weight')\n",
    "ax1.set_ylabel('Height')\n",
    "\n",
    "ax2.scatter(X['Weight'], X['Height'], c = Y['Sport[Athletics]'], cmap = 'bwr', marker = '.', alpha = 0.3)\n",
    "ax2.set_title('Athletics vs Height and Weight')\n",
    "ax2.set_xlabel('Weight')\n",
    "ax2.set_ylabel('Height')\n",
    "\n",
    "show()"
   ]
  },
  {
   "cell_type": "markdown",
   "metadata": {
    "_uuid": "8a137af194fb933b80589a865210558a6e53a5b6"
   },
   "source": [
    "Lets see how well we can predict Weightlifting given height and weight."
   ]
  },
  {
   "cell_type": "code",
   "execution_count": 56,
   "metadata": {
    "_uuid": "cfe124690e66ac50ef6ae73fb0c377af98ea963e"
   },
   "outputs": [],
   "source": [
    "base_data_male['target'] = np.where(base_data_male['Sport'] == 'Weightlifting', 1, 0)"
   ]
  },
  {
   "cell_type": "code",
   "execution_count": 57,
   "metadata": {
    "_uuid": "5f93a5ae1679e9e666283386b4bf8bede5573e9a"
   },
   "outputs": [
    {
     "data": {
      "text/plain": [
       "0.9687074764182679"
      ]
     },
     "execution_count": 57,
     "metadata": {},
     "output_type": "execute_result"
    }
   ],
   "source": [
    "# create the y and X matrices\n",
    "from sklearn import model_selection\n",
    "from sklearn import metrics\n",
    "from sklearn import neighbors\n",
    "\n",
    "Y, X = dmatrices('target ~ 0 + Weight + Height',\n",
    "                data = base_data_male,\n",
    "                return_type = 'dataframe')\n",
    "\n",
    "y = Y['target'].values\n",
    "\n",
    "accuracies = []\n",
    "\n",
    "kfold = model_selection.StratifiedKFold(n_splits = 5, shuffle = True).split(X, y)\n",
    "\n",
    "model = neighbors.KNeighborsClassifier(n_neighbors = 20,\n",
    "                                      p = 2,\n",
    "                                      weights = 'uniform')\n",
    "\n",
    "for train, holdout in kfold:\n",
    "    model.fit(X.iloc[train], y[train])\n",
    "    prediction_on_test = model.predict(X.iloc[holdout])\n",
    "    accuracies.append(metrics.accuracy_score(y[holdout], prediction_on_test))\n",
    "\n",
    "np.mean(accuracies)"
   ]
  },
  {
   "cell_type": "markdown",
   "metadata": {
    "_uuid": "5a6755b946ceb70f484aa3f631afbc08e0c1f3ca"
   },
   "source": [
    "The above accuracies show that given a height and weight I can predict the sport as being or not being weightlifting with 96% accuracy! This was because the weightlifters were so clearly visibile as separate on the weight/height scatterplot.\n",
    "\n",
    "Next, let's try predicting Athletics!"
   ]
  },
  {
   "cell_type": "code",
   "execution_count": 58,
   "metadata": {
    "_uuid": "45b77fb78f09d9777c28122a4388a0b4973abc23"
   },
   "outputs": [
    {
     "data": {
      "text/plain": [
       "0.8586149242538326"
      ]
     },
     "execution_count": 58,
     "metadata": {},
     "output_type": "execute_result"
    }
   ],
   "source": [
    "# Predicting Athletics from height and weight\n",
    "base_data_male['target'] = np.where(base_data_male['Sport'] == 'Athletics', 1, 0)\n",
    "\n",
    "# create the y and X matrices\n",
    "from sklearn import model_selection\n",
    "from sklearn import metrics\n",
    "from sklearn import neighbors\n",
    "\n",
    "Y, X = dmatrices('target ~ 0 + Weight + Height',\n",
    "                data = base_data_male,\n",
    "                return_type = 'dataframe')\n",
    "\n",
    "y = Y['target'].values\n",
    "\n",
    "accuracies = []\n",
    "\n",
    "kfold = model_selection.StratifiedKFold(n_splits = 5, shuffle = True).split(X, y)\n",
    "\n",
    "model = neighbors.KNeighborsClassifier(n_neighbors = 20,\n",
    "                                      p = 2,\n",
    "                                      weights = 'uniform')\n",
    "\n",
    "for train, holdout in kfold:\n",
    "    model.fit(X.iloc[train], y[train])\n",
    "    prediction_on_test = model.predict(X.iloc[holdout])\n",
    "    accuracies.append(metrics.accuracy_score(y[holdout], prediction_on_test))\n",
    "\n",
    "np.mean(accuracies)"
   ]
  },
  {
   "cell_type": "markdown",
   "metadata": {
    "_uuid": "69fb92d34bb337dd35176f34ae9bb48d598b935b"
   },
   "source": [
    "Wow! We get 86% accurate predictions with k-nearest neighbors while predicting athletics."
   ]
  },
  {
   "cell_type": "markdown",
   "metadata": {
    "_uuid": "f3b2c37e53d9d112697f1f9905ca269615ac69fd"
   },
   "source": [
    "#### We learnt that -\n",
    "1. USA, Russia, Germany and China are medal tally leaders in the olympics if we count beginning in 1964. They have all sent varying number of athletes into events over time and have fared better with higher contingent sizes. \n",
    "2. Women, who were not a very large part of the Olympics contingents earlier, now enjoy equal representation in the olympics teams. \n",
    "3. 1980 and 1984 were weird years, with USA not participating in 1980 due to Russia invading Afghanistan and then Russia retaliating in 1984 by not participating and starting the friendship games.\n",
    "4. We found interesting insights by looking at the most successful sporting events for each of the top countries - \n",
    "5. While USA loves swimming, China likes diving, Russia has a penchant for wrestling and mostly all of them like athletics.\n",
    "6. GDP impacts the number of medals won by a nation positively!\n",
    "7. The most accomplished athletes list shows 50% Americans, mostly swimmers!\n",
    "8. We can predict the medal tally of a country with an error (RMSE) of just ~7 medals using linear regression on - GDP, Population, GDP_per_capita and contingent size.\n",
    "9. It is also possible to predict some sports that an athlete plays using just his height and weight. We used a very simple K-Nearest neighbors model. This can obviously be improved upon!"
   ]
  }
 ],
 "metadata": {
  "kernelspec": {
   "display_name": "Python 3 (ipykernel)",
   "language": "python",
   "name": "python3"
  },
  "language_info": {
   "codemirror_mode": {
    "name": "ipython",
    "version": 3
   },
   "file_extension": ".py",
   "mimetype": "text/x-python",
   "name": "python",
   "nbconvert_exporter": "python",
   "pygments_lexer": "ipython3",
   "version": "3.9.12"
  }
 },
 "nbformat": 4,
 "nbformat_minor": 1
}
